{
 "cells": [
  {
   "cell_type": "code",
   "execution_count": 7,
   "metadata": {},
   "outputs": [],
   "source": [
    "import os\n",
    "import json\n",
    "import pandas as pd\n",
    "source = 'mutants_json/type1/'\n",
    "target = 'mutants_folders/type1/'"
   ]
  },
  {
   "cell_type": "code",
   "execution_count": 8,
   "metadata": {},
   "outputs": [],
   "source": [
    "def write_to_file(code, fpath):\n",
    "    f = open(fpath, \"w\")\n",
    "    f.write(code)\n",
    "    f.close()"
   ]
  },
  {
   "cell_type": "code",
   "execution_count": 9,
   "metadata": {},
   "outputs": [],
   "source": [
    "mutants_files = {}\n",
    "for root, dirs, files in os.walk(source, topdown=False):\n",
    "    for file in files:\n",
    "        dx = target+'/'+file.split('.')[0]\n",
    "        if not os.path.exists(dx):\n",
    "            os.mkdir(dx)    \n",
    "        fragments = pd.read_json(path_or_buf = os.path.join(root, file), lines=True)\n",
    "        fragments = dict(fragments.values)\n",
    "        #print(type(fragments))\n",
    "        #print(fragments)\n",
    "        for ind, func in fragments.items():\n",
    "            fpath = dx+'/'+str(ind)+'.java'\n",
    "            write_to_file(func, fpath)"
   ]
  },
  {
   "cell_type": "code",
   "execution_count": null,
   "metadata": {},
   "outputs": [],
   "source": []
  }
 ],
 "metadata": {
  "kernelspec": {
   "display_name": "venv",
   "language": "python",
   "name": "python3"
  },
  "language_info": {
   "codemirror_mode": {
    "name": "ipython",
    "version": 3
   },
   "file_extension": ".py",
   "mimetype": "text/x-python",
   "name": "python",
   "nbconvert_exporter": "python",
   "pygments_lexer": "ipython3",
   "version": "3.10.8"
  },
  "orig_nbformat": 4,
  "vscode": {
   "interpreter": {
    "hash": "0c7d5fa61d3c5239a23f5c6b2f71adfe8759b2485e7682d4ed43e0208c993ba1"
   }
  }
 },
 "nbformat": 4,
 "nbformat_minor": 2
}
