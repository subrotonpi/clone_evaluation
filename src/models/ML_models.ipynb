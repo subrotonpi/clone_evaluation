{
 "cells": [
  {
   "cell_type": "code",
   "execution_count": null,
   "metadata": {},
   "outputs": [],
   "source": [
    "import sys\n",
    "\n",
    "indexdir = \"/home/egk204/PycharmProjects/code-clone-multilingual/storage/dataset/\"\n",
    "import pandas as pd\n",
    "import numpy as np\n",
    "\n",
    "from sklearn.model_selection import train_test_split\n",
    "from sklearn.ensemble import RandomForestClassifier\n",
    "import xgboost as xgb\n",
    "from sklearn.metrics import accuracy_score, confusion_matrix, classification_report\n",
    "from sklearn.metrics import precision_score , recall_score, f1_score"
   ]
  },
  {
   "cell_type": "code",
   "execution_count": null,
   "metadata": {},
   "outputs": [],
   "source": [
    "def get_original_train_test(data_original):\n",
    "    print('data orignal shape:', data_original.shape)\n",
    "    y = data_original[18]\n",
    "    X = data_original.drop(18, axis=1)\n",
    "    print('X and y shape',X.shape, y.shape)\n",
    "    X_train, X_test, y_train, y_test = train_test_split(X, y, train_size=0.8)\n",
    "    print('Train, test X shape:',X_train.shape, X_test.shape)\n",
    "    return [X_train, X_test, y_train, y_test]\n",
    "\n",
    "def get_augmented_Dx_train_test(data_original, data_augmented):    \n",
    "    print('data original shape:', data_original.shape)\n",
    "    y = data_original[18]\n",
    "    X = data_original.drop(18, axis=1)\n",
    "    X_trainD, X_testD, y_trainD, y_testD = train_test_split(X, y, train_size=0.8)\n",
    "    print('data augmented shape:', data_augmented.shape)\n",
    "    data_Dx = data_original.append(data_augmented.sample(frac=1))\n",
    "    y_train = data_Dx[18]\n",
    "    X_train = data_Dx.drop(18, axis=1)  \n",
    "    print('Train X, y for Dx shape:',X_train.shape, y_train.shape)\n",
    "    return [X_train, X_testD, y_train, y_testD]\n",
    "\n",
    "def run_random_forest(data):\n",
    "    X_train = data[0]\n",
    "    X_test=data[1]\n",
    "    y_train=data[2] \n",
    "    y_test =data[3]\n",
    "    \n",
    "    rf = RandomForestClassifier(n_jobs=-1, max_depth=5,n_estimators=100, oob_score=True)\n",
    "    rf.fit(X_train, y_train)\n",
    "    print('oob score', rf.oob_score_)\n",
    "    y_preds = rf.predict(X_test)\n",
    "    print('accuracy',accuracy_score(y_test, y_preds))\n",
    "    print('\\nPrecision:', precision_score(y_test, y_preds) , \n",
    "              '\\nRecall:', recall_score(y_test, y_preds), \n",
    "              '\\nF-1:', f1_score(y_test, y_preds))\n",
    "    return rf\n",
    "\n",
    "def run_xgboost(data):\n",
    "    X_train = data[0]\n",
    "    X_test=data[1]\n",
    "    y_train=data[2] \n",
    "    y_test =data[3]\n",
    "    xgb_cl = xgb.XGBClassifier()\n",
    "    xgb_cl.fit(X_train, y_train)\n",
    "    \n",
    "    y_preds = xgb_cl.predict(X_test)\n",
    "    \n",
    "    print(accuracy_score(y_test, y_preds))\n",
    "    print('\\nPrecision:', precision_score(y_test, y_preds) , \n",
    "              '\\nRecall:', recall_score(y_test, y_preds), \n",
    "              '\\nF-1:', f1_score(y_test, y_preds))\n",
    "\n",
    "    return xgb_cl\n"
   ]
  },
  {
   "cell_type": "code",
   "execution_count": null,
   "metadata": {},
   "outputs": [],
   "source": [
    "\n",
    "data_original = pd.read_csv(indexdir+'ft_dset_original_clcdsa.csv', header=None)\n",
    "data_augmented = pd.read_csv(indexdir+'ft_dset_augmented_clcdsa.csv', header=None)\n",
    "print(data_original.shape, data_augmented.shape)"
   ]
  },
  {
   "cell_type": "code",
   "execution_count": null,
   "metadata": {},
   "outputs": [],
   "source": [
    "\n",
    "rf_or_model = run_random_forest(get_original_train_test(data_original))"
   ]
  },
  {
   "cell_type": "code",
   "execution_count": null,
   "metadata": {},
   "outputs": [],
   "source": [
    "rf_aug_model = run_random_forest(get_augmented_Dx_train_test(data_original, data_augmented))"
   ]
  },
  {
   "cell_type": "code",
   "execution_count": null,
   "metadata": {},
   "outputs": [],
   "source": [
    "xgb_model_original = run_xgboost(get_original_train_test(data_original))"
   ]
  },
  {
   "cell_type": "code",
   "execution_count": null,
   "metadata": {},
   "outputs": [],
   "source": [
    "\n",
    "xgb_model_aug = run_xgboost(get_augmented_Dx_train_test(data_original, data_augmented))"
   ]
  },
  {
   "cell_type": "code",
   "execution_count": null,
   "metadata": {},
   "outputs": [],
   "source": []
  },
  {
   "cell_type": "code",
   "execution_count": null,
   "metadata": {},
   "outputs": [],
   "source": []
  }
 ],
 "metadata": {
  "kernelspec": {
   "display_name": "Python 3.10.4 64-bit",
   "language": "python",
   "name": "python3"
  },
  "language_info": {
   "codemirror_mode": {
    "name": "ipython",
    "version": 3
   },
   "file_extension": ".py",
   "mimetype": "text/x-python",
   "name": "python",
   "nbconvert_exporter": "python",
   "pygments_lexer": "ipython3",
   "version": "3.10.6"
  },
  "orig_nbformat": 4,
  "vscode": {
   "interpreter": {
    "hash": "916dbcbb3f70747c44a77c7bcd40155683ae19c65e1c03b4aa3499c5328201f1"
   }
  }
 },
 "nbformat": 4,
 "nbformat_minor": 2
}
