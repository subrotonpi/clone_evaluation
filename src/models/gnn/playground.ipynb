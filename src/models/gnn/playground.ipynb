{
 "cells": [
  {
   "cell_type": "code",
   "execution_count": null,
   "outputs": [],
   "source": [],
   "metadata": {
    "collapsed": false,
    "pycharm": {
     "name": "#%%\n"
    }
   }
  },
  {
   "cell_type": "code",
   "execution_count": 1,
   "outputs": [],
   "source": [
    "indexdir = './scb'\n",
    "import pandas as pd\n",
    "clone_pairs = pd.read_pickle(indexdir+'/scb_pair_ids.pkl')\n",
    "X = clone_pairs[['id1', 'id2']]\n",
    "y = clone_pairs['label']"
   ],
   "metadata": {
    "collapsed": false,
    "pycharm": {
     "name": "#%%\n"
    }
   }
  },
  {
   "cell_type": "code",
   "execution_count": 2,
   "outputs": [
    {
     "data": {
      "text/plain": "        id1    id2\n0     98501  98502\n1     74901  74902\n2     99101  99102\n3     76101  76102\n4     77501  77502\n...     ...    ...\n1985  55301  30402\n1986  31901  24901\n1987  80902  65501\n1988  11201  13402\n1989  12501  90502\n\n[1990 rows x 2 columns]",
      "text/html": "<div>\n<style scoped>\n    .dataframe tbody tr th:only-of-type {\n        vertical-align: middle;\n    }\n\n    .dataframe tbody tr th {\n        vertical-align: top;\n    }\n\n    .dataframe thead th {\n        text-align: right;\n    }\n</style>\n<table border=\"1\" class=\"dataframe\">\n  <thead>\n    <tr style=\"text-align: right;\">\n      <th></th>\n      <th>id1</th>\n      <th>id2</th>\n    </tr>\n  </thead>\n  <tbody>\n    <tr>\n      <th>0</th>\n      <td>98501</td>\n      <td>98502</td>\n    </tr>\n    <tr>\n      <th>1</th>\n      <td>74901</td>\n      <td>74902</td>\n    </tr>\n    <tr>\n      <th>2</th>\n      <td>99101</td>\n      <td>99102</td>\n    </tr>\n    <tr>\n      <th>3</th>\n      <td>76101</td>\n      <td>76102</td>\n    </tr>\n    <tr>\n      <th>4</th>\n      <td>77501</td>\n      <td>77502</td>\n    </tr>\n    <tr>\n      <th>...</th>\n      <td>...</td>\n      <td>...</td>\n    </tr>\n    <tr>\n      <th>1985</th>\n      <td>55301</td>\n      <td>30402</td>\n    </tr>\n    <tr>\n      <th>1986</th>\n      <td>31901</td>\n      <td>24901</td>\n    </tr>\n    <tr>\n      <th>1987</th>\n      <td>80902</td>\n      <td>65501</td>\n    </tr>\n    <tr>\n      <th>1988</th>\n      <td>11201</td>\n      <td>13402</td>\n    </tr>\n    <tr>\n      <th>1989</th>\n      <td>12501</td>\n      <td>90502</td>\n    </tr>\n  </tbody>\n</table>\n<p>1990 rows × 2 columns</p>\n</div>"
     },
     "execution_count": 2,
     "metadata": {},
     "output_type": "execute_result"
    }
   ],
   "source": [
    "X"
   ],
   "metadata": {
    "collapsed": false,
    "pycharm": {
     "name": "#%%\n"
    }
   }
  },
  {
   "cell_type": "code",
   "execution_count": 3,
   "outputs": [
    {
     "data": {
      "text/plain": "0       1\n1       1\n2       1\n3       1\n4       1\n       ..\n1985    0\n1986    0\n1987    0\n1988    0\n1989    0\nName: label, Length: 1990, dtype: int64"
     },
     "execution_count": 3,
     "metadata": {},
     "output_type": "execute_result"
    }
   ],
   "source": [
    "y"
   ],
   "metadata": {
    "collapsed": false,
    "pycharm": {
     "name": "#%%\n"
    }
   }
  },
  {
   "cell_type": "code",
   "execution_count": 10,
   "outputs": [],
   "source": [
    "f = pd.read_pickle('./scb/testdata_id.pkl')"
   ],
   "metadata": {
    "collapsed": false,
    "pycharm": {
     "name": "#%%\n"
    }
   }
  },
  {
   "cell_type": "code",
   "execution_count": 11,
   "outputs": [
    {
     "data": {
      "text/plain": "                                   id1                                id2  \\\n0    ./dataset_splitted/java/39902.txt  ./dataset_splitted/java/29501.txt   \n1    ./dataset_splitted/java/15601.txt  ./dataset_splitted/java/15602.txt   \n2    ./dataset_splitted/java/15401.txt  ./dataset_splitted/java/15402.txt   \n3    ./dataset_splitted/java/39102.txt  ./dataset_splitted/java/51302.txt   \n4    ./dataset_splitted/java/95201.txt  ./dataset_splitted/java/20201.txt   \n..                                 ...                                ...   \n393  ./dataset_splitted/java/28601.txt  ./dataset_splitted/java/28602.txt   \n394  ./dataset_splitted/java/39201.txt  ./dataset_splitted/java/94001.txt   \n395  ./dataset_splitted/java/99301.txt  ./dataset_splitted/java/99302.txt   \n396  ./dataset_splitted/java/25001.txt  ./dataset_splitted/java/25002.txt   \n397  ./dataset_splitted/java/33801.txt  ./dataset_splitted/java/33802.txt   \n\n     label  \n0       -1  \n1        1  \n2        1  \n3       -1  \n4       -1  \n..     ...  \n393      1  \n394     -1  \n395      1  \n396      1  \n397      1  \n\n[398 rows x 3 columns]",
      "text/html": "<div>\n<style scoped>\n    .dataframe tbody tr th:only-of-type {\n        vertical-align: middle;\n    }\n\n    .dataframe tbody tr th {\n        vertical-align: top;\n    }\n\n    .dataframe thead th {\n        text-align: right;\n    }\n</style>\n<table border=\"1\" class=\"dataframe\">\n  <thead>\n    <tr style=\"text-align: right;\">\n      <th></th>\n      <th>id1</th>\n      <th>id2</th>\n      <th>label</th>\n    </tr>\n  </thead>\n  <tbody>\n    <tr>\n      <th>0</th>\n      <td>./dataset_splitted/java/39902.txt</td>\n      <td>./dataset_splitted/java/29501.txt</td>\n      <td>-1</td>\n    </tr>\n    <tr>\n      <th>1</th>\n      <td>./dataset_splitted/java/15601.txt</td>\n      <td>./dataset_splitted/java/15602.txt</td>\n      <td>1</td>\n    </tr>\n    <tr>\n      <th>2</th>\n      <td>./dataset_splitted/java/15401.txt</td>\n      <td>./dataset_splitted/java/15402.txt</td>\n      <td>1</td>\n    </tr>\n    <tr>\n      <th>3</th>\n      <td>./dataset_splitted/java/39102.txt</td>\n      <td>./dataset_splitted/java/51302.txt</td>\n      <td>-1</td>\n    </tr>\n    <tr>\n      <th>4</th>\n      <td>./dataset_splitted/java/95201.txt</td>\n      <td>./dataset_splitted/java/20201.txt</td>\n      <td>-1</td>\n    </tr>\n    <tr>\n      <th>...</th>\n      <td>...</td>\n      <td>...</td>\n      <td>...</td>\n    </tr>\n    <tr>\n      <th>393</th>\n      <td>./dataset_splitted/java/28601.txt</td>\n      <td>./dataset_splitted/java/28602.txt</td>\n      <td>1</td>\n    </tr>\n    <tr>\n      <th>394</th>\n      <td>./dataset_splitted/java/39201.txt</td>\n      <td>./dataset_splitted/java/94001.txt</td>\n      <td>-1</td>\n    </tr>\n    <tr>\n      <th>395</th>\n      <td>./dataset_splitted/java/99301.txt</td>\n      <td>./dataset_splitted/java/99302.txt</td>\n      <td>1</td>\n    </tr>\n    <tr>\n      <th>396</th>\n      <td>./dataset_splitted/java/25001.txt</td>\n      <td>./dataset_splitted/java/25002.txt</td>\n      <td>1</td>\n    </tr>\n    <tr>\n      <th>397</th>\n      <td>./dataset_splitted/java/33801.txt</td>\n      <td>./dataset_splitted/java/33802.txt</td>\n      <td>1</td>\n    </tr>\n  </tbody>\n</table>\n<p>398 rows × 3 columns</p>\n</div>"
     },
     "execution_count": 11,
     "metadata": {},
     "output_type": "execute_result"
    }
   ],
   "source": [
    "f"
   ],
   "metadata": {
    "collapsed": false,
    "pycharm": {
     "name": "#%%\n"
    }
   }
  },
  {
   "cell_type": "code",
   "execution_count": 8,
   "outputs": [
    {
     "data": {
      "text/plain": "        id1    id2  label\n0     79301  79302      1\n1     95301  95302      1\n2     56501  56502      1\n3     89201  97002     -1\n4     42001  42002      1\n...     ...    ...    ...\n1268  25301  77001     -1\n1269  95902  56702     -1\n1270  10101  60201     -1\n1271  61601  61602      1\n1272  25701  25702      1\n\n[1273 rows x 3 columns]",
      "text/html": "<div>\n<style scoped>\n    .dataframe tbody tr th:only-of-type {\n        vertical-align: middle;\n    }\n\n    .dataframe tbody tr th {\n        vertical-align: top;\n    }\n\n    .dataframe thead th {\n        text-align: right;\n    }\n</style>\n<table border=\"1\" class=\"dataframe\">\n  <thead>\n    <tr style=\"text-align: right;\">\n      <th></th>\n      <th>id1</th>\n      <th>id2</th>\n      <th>label</th>\n    </tr>\n  </thead>\n  <tbody>\n    <tr>\n      <th>0</th>\n      <td>79301</td>\n      <td>79302</td>\n      <td>1</td>\n    </tr>\n    <tr>\n      <th>1</th>\n      <td>95301</td>\n      <td>95302</td>\n      <td>1</td>\n    </tr>\n    <tr>\n      <th>2</th>\n      <td>56501</td>\n      <td>56502</td>\n      <td>1</td>\n    </tr>\n    <tr>\n      <th>3</th>\n      <td>89201</td>\n      <td>97002</td>\n      <td>-1</td>\n    </tr>\n    <tr>\n      <th>4</th>\n      <td>42001</td>\n      <td>42002</td>\n      <td>1</td>\n    </tr>\n    <tr>\n      <th>...</th>\n      <td>...</td>\n      <td>...</td>\n      <td>...</td>\n    </tr>\n    <tr>\n      <th>1268</th>\n      <td>25301</td>\n      <td>77001</td>\n      <td>-1</td>\n    </tr>\n    <tr>\n      <th>1269</th>\n      <td>95902</td>\n      <td>56702</td>\n      <td>-1</td>\n    </tr>\n    <tr>\n      <th>1270</th>\n      <td>10101</td>\n      <td>60201</td>\n      <td>-1</td>\n    </tr>\n    <tr>\n      <th>1271</th>\n      <td>61601</td>\n      <td>61602</td>\n      <td>1</td>\n    </tr>\n    <tr>\n      <th>1272</th>\n      <td>25701</td>\n      <td>25702</td>\n      <td>1</td>\n    </tr>\n  </tbody>\n</table>\n<p>1273 rows × 3 columns</p>\n</div>"
     },
     "execution_count": 8,
     "metadata": {},
     "output_type": "execute_result"
    }
   ],
   "source": [
    "f"
   ],
   "metadata": {
    "collapsed": false,
    "pycharm": {
     "name": "#%%\n"
    }
   }
  },
  {
   "cell_type": "code",
   "execution_count": null,
   "outputs": [],
   "source": [],
   "metadata": {
    "collapsed": false,
    "pycharm": {
     "name": "#%%\n"
    }
   }
  }
 ],
 "metadata": {
  "kernelspec": {
   "display_name": "Python 3",
   "language": "python",
   "name": "python3"
  },
  "language_info": {
   "codemirror_mode": {
    "name": "ipython",
    "version": 2
   },
   "file_extension": ".py",
   "mimetype": "text/x-python",
   "name": "python",
   "nbconvert_exporter": "python",
   "pygments_lexer": "ipython2",
   "version": "2.7.6"
  }
 },
 "nbformat": 4,
 "nbformat_minor": 0
}