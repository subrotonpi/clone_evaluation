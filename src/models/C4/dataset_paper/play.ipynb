{
 "cells": [
  {
   "cell_type": "code",
   "execution_count": 3,
   "metadata": {},
   "outputs": [
    {
     "name": "stdout",
     "output_type": "stream",
     "text": [
      "83560\n",
      "157.22075155576832\n"
     ]
    }
   ],
   "source": [
    "import pandas as pd\n",
    "import json\n",
    "codes = set()\n",
    "nlines = 0 \n",
    "\n",
    "def helper(filename):\n",
    "    global nlines\n",
    "    with open(filename,encoding=\"utf-8\") as f:\n",
    "        for line in f:\n",
    "            line=line.strip()\n",
    "            js=json.loads(line)\n",
    "            code1 = ' '.join(js['Code1'].replace('\\n', ' ').strip().split())\n",
    "            code2 = ' '.join(js['Code2'].replace('\\n', ' ').strip().split())\n",
    "            codes.add(code1)\n",
    "            codes.add(code2)\n",
    "   \n",
    "            nlines = nlines+ int(len(js['Code1'].split('\\n'))) + int(len(js['Code2'].split('\\n')))\n",
    "        #print(nlines)\n",
    "if __name__=='__main__':\n",
    "\n",
    "          \n",
    "    helper('pair_train.jsonl')\n",
    "    helper('pair_test.jsonl')\n",
    "    helper('pair_valid.jsonl')\n",
    "\n",
    "    print(len(list(codes)))\n",
    "    print(nlines/len(list(codes)))\n"
   ]
  },
  {
   "cell_type": "code",
   "execution_count": null,
   "metadata": {},
   "outputs": [],
   "source": []
  }
 ],
 "metadata": {
  "kernelspec": {
   "display_name": "venv",
   "language": "python",
   "name": "python3"
  },
  "language_info": {
   "codemirror_mode": {
    "name": "ipython",
    "version": 3
   },
   "file_extension": ".py",
   "mimetype": "text/x-python",
   "name": "python",
   "nbconvert_exporter": "python",
   "pygments_lexer": "ipython3",
   "version": "3.10.6"
  },
  "orig_nbformat": 4
 },
 "nbformat": 4,
 "nbformat_minor": 2
}
