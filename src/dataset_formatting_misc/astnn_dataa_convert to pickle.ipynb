{
 "cells": [
  {
   "cell_type": "markdown",
   "metadata": {
    "collapsed": false,
    "pycharm": {
     "name": "#%% md\n"
    }
   },
   "source": [
    "# reading dataset and saving as pickle for ASTNN"
   ]
  },
  {
   "cell_type": "code",
   "execution_count": 8,
   "metadata": {
    "collapsed": false,
    "pycharm": {
     "name": "#%%\n"
    }
   },
   "outputs": [],
   "source": [
    "import pandas as pd\n",
    "\n",
    "# moved this code from ASTNN to data_formatting folder,\n",
    "# to run it : change directory path"
   ]
  },
  {
   "cell_type": "code",
   "execution_count": 9,
   "metadata": {
    "collapsed": false,
    "pycharm": {
     "name": "#%%\n"
    }
   },
   "outputs": [],
   "source": [
    "read_path = '../../../extend-scb/dataset-diff/'\n",
    "scb_all_functions = pd.read_csv(read_path+'scb_data_astnn.csv', header=None, sep='\\t')#names=['id','code']\n",
    "scb_pair_ids = pd.read_csv(read_path+'scb_data_id.csv', names=['id1','id2','label'], sep='\\t')\n",
    "\n",
    "train = pd.read_csv(read_path+'scb_train_id.csv', names=['id1','id2','label'], sep='\\t')\n",
    "dev = pd.read_csv(read_path+'scb_dev_id.csv', names=['id1','id2','label'], sep='\\t')\n",
    "test = pd.read_csv(read_path+'scb_test.csv', names=['id1','id2','label'], sep='\\t')"
   ]
  },
  {
   "cell_type": "code",
   "execution_count": 10,
   "metadata": {
    "collapsed": false,
    "pycharm": {
     "name": "#%%\n"
    }
   },
   "outputs": [],
   "source": [
    "scb_pair_ids.loc[(scb_pair_ids.label == -1),'label']=0"
   ]
  },
  {
   "cell_type": "code",
   "execution_count": 11,
   "metadata": {
    "collapsed": false,
    "pycharm": {
     "name": "#%%\n"
    }
   },
   "outputs": [],
   "source": [
    "write_path = './data/java/'\n",
    "train.to_pickle(write_path+'traindata_id.pkl')\n",
    "test.to_pickle(write_path+'testdata_id.pkl')\n",
    "dev.to_pickle(write_path+'devdata_id.pkl')\n",
    "\n",
    "scb_all_functions.to_csv(write_path + 'scb_funcs_all.tsv', sep='\\t', header=False, index=False)\n",
    "\n",
    "\n",
    "scb_pair_ids.to_pickle(write_path+'scb_pair_ids.pkl')"
   ]
  },
  {
   "cell_type": "code",
   "execution_count": 12,
   "metadata": {
    "collapsed": false,
    "pycharm": {
     "name": "#%%\n"
    }
   },
   "outputs": [
    {
     "name": "stdout",
     "output_type": "stream",
     "text": [
      "ast.pkl           scb_funcs_all.tsv testdata_id.pkl\r\n",
      "\u001b[34mdev\u001b[m\u001b[m               scb_pair_ids.pkl  \u001b[34mtrain\u001b[m\u001b[m\r\n",
      "devdata_id.pkl    \u001b[34mtest\u001b[m\u001b[m              traindata_id.pkl\r\n"
     ]
    }
   ],
   "source": [
    "!ls ./data/java"
   ]
  },
  {
   "cell_type": "code",
   "execution_count": 14,
   "metadata": {
    "collapsed": false,
    "pycharm": {
     "name": "#%%\n"
    }
   },
   "outputs": [],
   "source": []
  }
 ],
 "metadata": {
  "kernelspec": {
   "display_name": "Python 3",
   "language": "python",
   "name": "python3"
  },
  "language_info": {
   "codemirror_mode": {
    "name": "ipython",
    "version": 2
   },
   "file_extension": ".py",
   "mimetype": "text/x-python",
   "name": "python",
   "nbconvert_exporter": "python",
   "pygments_lexer": "ipython2",
   "version": "2.7.6"
  }
 },
 "nbformat": 4,
 "nbformat_minor": 0
}
