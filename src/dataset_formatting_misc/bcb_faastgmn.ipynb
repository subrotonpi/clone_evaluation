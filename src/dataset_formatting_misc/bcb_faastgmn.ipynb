{
 "cells": [
  {
   "cell_type": "code",
   "execution_count": 1,
   "metadata": {},
   "outputs": [],
   "source": [
    "import pandas as pd"
   ]
  },
  {
   "cell_type": "code",
   "execution_count": 2,
   "metadata": {},
   "outputs": [],
   "source": [
    "k = ['id1', 'id2', 'label']\n",
    "train11 = pd.read_csv('traindata11.txt', sep='\\t', names=k)\n",
    "train11big = pd.read_csv('traindata11big.txt', sep='\\t', names=k)\n",
    "test = pd.read_csv('testdata.txt', sep='\\t', names=k)\n",
    "valid = pd.read_csv('devdata.txt', sep='\\t',  names=k)\n",
    "\n"
   ]
  },
  {
   "cell_type": "code",
   "execution_count": 3,
   "metadata": {},
   "outputs": [],
   "source": [
    "train11 = train11.replace(-1,0)\n",
    "train11big = train11big.replace(-1,0)\n",
    "\n",
    "test = test.replace(-1,0)\n",
    "valid = valid.replace(-1,0)\n"
   ]
  },
  {
   "cell_type": "code",
   "execution_count": 5,
   "metadata": {},
   "outputs": [],
   "source": [
    "import jsonlines\n",
    "\n",
    "x=[]\n",
    "for root, dirs, files in os.walk(\"bigclonebenchdata\", topdown=False):\n",
    "    for name in files:\n",
    "        s = os.path.join(root, name)\n",
    "        x.append(['./'+s, ''.join(open(s).readlines())])\n",
    "        \n",
    "        \n",
    "\n",
    "data = pd.DataFrame(x, columns=['idx', 'func'])"
   ]
  },
  {
   "cell_type": "code",
   "execution_count": 5,
   "metadata": {},
   "outputs": [],
   "source": [
    "def mapid(df, mapping):\n",
    "    ids = ['id1', 'id2']\n",
    "    for i in ids:\n",
    "        df[i] = df[i].apply(lambda x: mapping[x])\n",
    "    return df\n",
    "\n",
    "mapping = {item:i+1 for i, item in enumerate(data[\"idx\"].unique())}\n",
    "\n",
    "data['idx'] = data['idx'].apply(lambda x: mapping[x])\n",
    "\n",
    "train11 = mapid(train11, mapping)\n",
    "train11big = mapid(train11big, mapping)\n",
    "valid = mapid(valid, mapping)\n",
    "test = mapid(test, mapping)\n",
    "\n",
    "\n",
    "df = data\n",
    "df.columns=['idx', 'func']\n",
    "\n",
    "temp = []\n",
    "for ind, row in df.iterrows():\n",
    "    x = {\n",
    "        'idx' : row.idx,\n",
    "        'func' : row.func\n",
    "    }\n",
    "    temp.append(x)\n",
    "\n",
    "with jsonlines.open('dataset/data.jsonl', 'w') as writer:\n",
    "    writer.write_all(temp)\n",
    "\n",
    "\n",
    "train11.to_csv('dataset/train11.csv', header=None, index=False)\n",
    "train11big.to_csv('dataset/train.csv', header=None, index=False)\n",
    "\n",
    "test.to_csv('dataset/test.csv', header=None, index=False)\n",
    "valid.to_csv('dataset/valid.csv', header=None, index=False)"
   ]
  },
  {
   "cell_type": "code",
   "execution_count": 6,
   "metadata": {},
   "outputs": [],
   "source": [
    "train = pd.read_csv('dataset/train.csv')\n",
    "test = pd.read_csv('dataset/test.csv')\n",
    "valid = pd.read_csv('dataset/valid.csv')\n",
    "\n",
    "train.to_csv(r'dataset/train.txt', header=None, index=None, sep='\\t', mode='a')\n",
    "test.to_csv(r'dataset/test.txt', header=None, index=None, sep='\\t', mode='a')\n",
    "valid.to_csv(r'dataset/valid.txt', header=None, index=None, sep='\\t', mode='a')\n"
   ]
  },
  {
   "cell_type": "code",
   "execution_count": 8,
   "metadata": {},
   "outputs": [],
   "source": [
    "x=[]\n",
    "for k, v in mapping.items():\n",
    "    x.append([k,v])"
   ]
  },
  {
   "cell_type": "code",
   "execution_count": 9,
   "metadata": {},
   "outputs": [],
   "source": [
    "pd.DataFrame(x).to_csv('mapping.csv', index=False, header=None)"
   ]
  },
  {
   "cell_type": "code",
   "execution_count": null,
   "metadata": {},
   "outputs": [],
   "source": []
  }
 ],
 "metadata": {
  "kernelspec": {
   "display_name": "Python 3",
   "language": "python",
   "name": "python3"
  },
  "language_info": {
   "codemirror_mode": {
    "name": "ipython",
    "version": 3
   },
   "file_extension": ".py",
   "mimetype": "text/x-python",
   "name": "python",
   "nbconvert_exporter": "python",
   "pygments_lexer": "ipython3",
   "version": "3.9.15 (main, Oct 11 2022, 22:27:25) \n[Clang 14.0.0 (clang-1400.0.29.102)]"
  },
  "orig_nbformat": 4,
  "vscode": {
   "interpreter": {
    "hash": "397704579725e15f5c7cb49fe5f0341eb7531c82d19f2c29d197e8b64ab5776b"
   }
  }
 },
 "nbformat": 4,
 "nbformat_minor": 2
}
