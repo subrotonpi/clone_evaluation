{
 "cells": [
  {
   "cell_type": "code",
   "execution_count": 77,
   "id": "c31d9dba",
   "metadata": {
    "pycharm": {
     "name": "#%%\n"
    }
   },
   "outputs": [],
   "source": [
    "import pandas as pd\n",
    "import numpy as np\n",
    "import random as rd\n",
    "from sklearn.utils import shuffle\n",
    "\n",
    "import random\n",
    "random.seed(10)"
   ]
  },
  {
   "cell_type": "code",
   "execution_count": 78,
   "id": "0f3f63f0",
   "metadata": {
    "pycharm": {
     "name": "#%%\n"
    }
   },
   "outputs": [],
   "source": [
    "dataset = pd.read_csv('./dataset_diff/datasetv1.csv')\n",
    "\n",
    "filedel = ['./dataset_splitted/java/5201.txt',\n",
    "'./dataset_splitted/java/28202.txt',\n",
    "'./dataset_splitted/java/31202.txt']\n"
   ]
  },
  {
   "cell_type": "code",
   "execution_count": 79,
   "metadata": {
    "collapsed": false,
    "pycharm": {
     "name": "#%%\n"
    }
   },
   "outputs": [],
   "source": [
    "dataset = dataset[dataset.fragment_1.isin(filedel) == False]\n",
    "dataset = dataset[dataset.fragment_2.isin(filedel) == False]"
   ]
  },
  {
   "cell_type": "code",
   "execution_count": 79,
   "metadata": {
    "collapsed": false,
    "pycharm": {
     "name": "#%%\n"
    }
   },
   "outputs": [],
   "source": []
  },
  {
   "cell_type": "code",
   "execution_count": 80,
   "metadata": {
    "collapsed": false,
    "pycharm": {
     "name": "#%%\n"
    }
   },
   "outputs": [
    {
     "name": "stdout",
     "output_type": "stream",
     "text": [
      "(1990, 4)\n"
     ]
    },
    {
     "data": {
      "text/html": [
       "<div>\n",
       "<style scoped>\n",
       "    .dataframe tbody tr th:only-of-type {\n",
       "        vertical-align: middle;\n",
       "    }\n",
       "\n",
       "    .dataframe tbody tr th {\n",
       "        vertical-align: top;\n",
       "    }\n",
       "\n",
       "    .dataframe thead th {\n",
       "        text-align: right;\n",
       "    }\n",
       "</style>\n",
       "<table border=\"1\" class=\"dataframe\">\n",
       "  <thead>\n",
       "    <tr style=\"text-align: right;\">\n",
       "      <th></th>\n",
       "      <th>Unnamed: 0</th>\n",
       "      <th>fragment_1</th>\n",
       "      <th>fragment_2</th>\n",
       "      <th>label</th>\n",
       "    </tr>\n",
       "  </thead>\n",
       "  <tbody>\n",
       "    <tr>\n",
       "      <th>0</th>\n",
       "      <td>0</td>\n",
       "      <td>./dataset_splitted/java/98501.txt</td>\n",
       "      <td>./dataset_splitted/java/98502.txt</td>\n",
       "      <td>1</td>\n",
       "    </tr>\n",
       "    <tr>\n",
       "      <th>1</th>\n",
       "      <td>1</td>\n",
       "      <td>./dataset_splitted/java/74901.txt</td>\n",
       "      <td>./dataset_splitted/java/74902.txt</td>\n",
       "      <td>1</td>\n",
       "    </tr>\n",
       "    <tr>\n",
       "      <th>2</th>\n",
       "      <td>2</td>\n",
       "      <td>./dataset_splitted/java/99101.txt</td>\n",
       "      <td>./dataset_splitted/java/99102.txt</td>\n",
       "      <td>1</td>\n",
       "    </tr>\n",
       "    <tr>\n",
       "      <th>3</th>\n",
       "      <td>3</td>\n",
       "      <td>./dataset_splitted/java/76101.txt</td>\n",
       "      <td>./dataset_splitted/java/76102.txt</td>\n",
       "      <td>1</td>\n",
       "    </tr>\n",
       "    <tr>\n",
       "      <th>4</th>\n",
       "      <td>4</td>\n",
       "      <td>./dataset_splitted/java/77501.txt</td>\n",
       "      <td>./dataset_splitted/java/77502.txt</td>\n",
       "      <td>1</td>\n",
       "    </tr>\n",
       "  </tbody>\n",
       "</table>\n",
       "</div>"
      ],
      "text/plain": [
       "   Unnamed: 0                         fragment_1  \\\n",
       "0           0  ./dataset_splitted/java/98501.txt   \n",
       "1           1  ./dataset_splitted/java/74901.txt   \n",
       "2           2  ./dataset_splitted/java/99101.txt   \n",
       "3           3  ./dataset_splitted/java/76101.txt   \n",
       "4           4  ./dataset_splitted/java/77501.txt   \n",
       "\n",
       "                          fragment_2  label  \n",
       "0  ./dataset_splitted/java/98502.txt      1  \n",
       "1  ./dataset_splitted/java/74902.txt      1  \n",
       "2  ./dataset_splitted/java/99102.txt      1  \n",
       "3  ./dataset_splitted/java/76102.txt      1  \n",
       "4  ./dataset_splitted/java/77502.txt      1  "
      ]
     },
     "execution_count": 80,
     "metadata": {},
     "output_type": "execute_result"
    }
   ],
   "source": [
    "print(dataset.shape)\n",
    "dataset.head()"
   ]
  },
  {
   "cell_type": "code",
   "execution_count": 81,
   "metadata": {
    "collapsed": false,
    "pycharm": {
     "name": "#%%\n"
    }
   },
   "outputs": [
    {
     "data": {
      "text/html": [
       "<div>\n",
       "<style scoped>\n",
       "    .dataframe tbody tr th:only-of-type {\n",
       "        vertical-align: middle;\n",
       "    }\n",
       "\n",
       "    .dataframe tbody tr th {\n",
       "        vertical-align: top;\n",
       "    }\n",
       "\n",
       "    .dataframe thead th {\n",
       "        text-align: right;\n",
       "    }\n",
       "</style>\n",
       "<table border=\"1\" class=\"dataframe\">\n",
       "  <thead>\n",
       "    <tr style=\"text-align: right;\">\n",
       "      <th></th>\n",
       "      <th>fragment_1</th>\n",
       "      <th>fragment_2</th>\n",
       "      <th>label</th>\n",
       "    </tr>\n",
       "  </thead>\n",
       "  <tbody>\n",
       "    <tr>\n",
       "      <th>0</th>\n",
       "      <td>./dataset_splitted/java/98501.txt</td>\n",
       "      <td>./dataset_splitted/java/98502.txt</td>\n",
       "      <td>1</td>\n",
       "    </tr>\n",
       "    <tr>\n",
       "      <th>1</th>\n",
       "      <td>./dataset_splitted/java/74901.txt</td>\n",
       "      <td>./dataset_splitted/java/74902.txt</td>\n",
       "      <td>1</td>\n",
       "    </tr>\n",
       "    <tr>\n",
       "      <th>2</th>\n",
       "      <td>./dataset_splitted/java/99101.txt</td>\n",
       "      <td>./dataset_splitted/java/99102.txt</td>\n",
       "      <td>1</td>\n",
       "    </tr>\n",
       "    <tr>\n",
       "      <th>3</th>\n",
       "      <td>./dataset_splitted/java/76101.txt</td>\n",
       "      <td>./dataset_splitted/java/76102.txt</td>\n",
       "      <td>1</td>\n",
       "    </tr>\n",
       "    <tr>\n",
       "      <th>4</th>\n",
       "      <td>./dataset_splitted/java/77501.txt</td>\n",
       "      <td>./dataset_splitted/java/77502.txt</td>\n",
       "      <td>1</td>\n",
       "    </tr>\n",
       "  </tbody>\n",
       "</table>\n",
       "</div>"
      ],
      "text/plain": [
       "                          fragment_1                         fragment_2  label\n",
       "0  ./dataset_splitted/java/98501.txt  ./dataset_splitted/java/98502.txt      1\n",
       "1  ./dataset_splitted/java/74901.txt  ./dataset_splitted/java/74902.txt      1\n",
       "2  ./dataset_splitted/java/99101.txt  ./dataset_splitted/java/99102.txt      1\n",
       "3  ./dataset_splitted/java/76101.txt  ./dataset_splitted/java/76102.txt      1\n",
       "4  ./dataset_splitted/java/77501.txt  ./dataset_splitted/java/77502.txt      1"
      ]
     },
     "execution_count": 81,
     "metadata": {},
     "output_type": "execute_result"
    }
   ],
   "source": [
    "dataset.drop('Unnamed: 0',axis=1, inplace=True)\n",
    "dataset.head()"
   ]
  },
  {
   "cell_type": "code",
   "execution_count": 82,
   "metadata": {
    "collapsed": false,
    "pycharm": {
     "name": "#%%\n"
    }
   },
   "outputs": [
    {
     "name": "stdout",
     "output_type": "stream",
     "text": [
      "(1273, 3) (319, 3) (398, 3)\n"
     ]
    }
   ],
   "source": [
    "from sklearn.model_selection import train_test_split\n",
    "\n",
    "#train test valid\n",
    "X = dataset[['fragment_1','fragment_2']]\n",
    "y = dataset['label']\n",
    "#train test\n",
    "X_train, X_test, y_train, y_test = train_test_split(X, y, test_size=0.2, random_state=1)\n",
    "testdata = pd.concat([X_test, y_test], axis=1)\n",
    "\n",
    "#split train into validation set\n",
    "X_train, X_val, y_train, y_val = train_test_split(X_train, y_train, test_size=0.2, random_state=1)\n",
    "traindata = pd.concat([X_train, y_train], axis=1)\n",
    "validdata = pd.concat([X_val, y_val], axis=1)\n",
    "#for GNN, FA-AST\n",
    "#save to file as csv\n",
    "traindata.to_csv('./dataset_diff/scb_train.csv', header = None, index=False, sep='\\t')\n",
    "testdata.to_csv('./dataset_diff/scb_test.csv', header = None, index=False, sep='\\t')\n",
    "validdata.to_csv('./dataset_diff/scb_dev.csv', header = None, index=False, sep='\\t')#validation set saved as dev-data\n",
    "print(traindata.shape, validdata.shape, testdata.shape)"
   ]
  },
  {
   "cell_type": "code",
   "execution_count": 83,
   "metadata": {
    "collapsed": false,
    "pycharm": {
     "name": "#%%\n"
    }
   },
   "outputs": [
    {
     "name": "stdout",
     "output_type": "stream",
     "text": [
      "(1273, 3) (319, 3) (398, 3)\n"
     ]
    }
   ],
   "source": [
    "def rep(d):\n",
    "    df= d.copy()\n",
    "    df.replace('./dataset_splitted/java/','', regex=True, inplace=True)\n",
    "    df.replace('.txt','', regex=True, inplace=True)\n",
    "    return df\n",
    "#astnn\n",
    "#savind only IDs an dnot whole path for other algorithms' reproducibilty\n",
    "rep(dataset).to_csv('./dataset_diff/scb_data_id.csv',header = None, index=False, sep='\\t')\n",
    "#save to file as csv\n",
    "rep(traindata).to_csv('./dataset_diff/scb_train_id.csv', header = None, index=False, sep='\\t')\n",
    "rep(testdata).to_csv('./dataset_diff/scb_test_id.csv', header = None, index=False, sep='\\t')\n",
    "rep(validdata).to_csv('./dataset_diff/scb_dev_id.csv', header = None, index=False, sep='\\t')#validation set saved as dev-data\n",
    "print(traindata.shape, validdata.shape, testdata.shape)"
   ]
  },
  {
   "cell_type": "code",
   "execution_count": 84,
   "metadata": {
    "collapsed": false,
    "pycharm": {
     "name": "#%%\n"
    }
   },
   "outputs": [
    {
     "data": {
      "text/html": [
       "<div>\n",
       "<style scoped>\n",
       "    .dataframe tbody tr th:only-of-type {\n",
       "        vertical-align: middle;\n",
       "    }\n",
       "\n",
       "    .dataframe tbody tr th {\n",
       "        vertical-align: top;\n",
       "    }\n",
       "\n",
       "    .dataframe thead th {\n",
       "        text-align: right;\n",
       "    }\n",
       "</style>\n",
       "<table border=\"1\" class=\"dataframe\">\n",
       "  <thead>\n",
       "    <tr style=\"text-align: right;\">\n",
       "      <th></th>\n",
       "      <th>fragment_1</th>\n",
       "      <th>fragment_2</th>\n",
       "      <th>label</th>\n",
       "    </tr>\n",
       "  </thead>\n",
       "  <tbody>\n",
       "    <tr>\n",
       "      <th>0</th>\n",
       "      <td>98501</td>\n",
       "      <td>98502</td>\n",
       "      <td>1</td>\n",
       "    </tr>\n",
       "    <tr>\n",
       "      <th>1</th>\n",
       "      <td>74901</td>\n",
       "      <td>74902</td>\n",
       "      <td>1</td>\n",
       "    </tr>\n",
       "    <tr>\n",
       "      <th>2</th>\n",
       "      <td>99101</td>\n",
       "      <td>99102</td>\n",
       "      <td>1</td>\n",
       "    </tr>\n",
       "    <tr>\n",
       "      <th>3</th>\n",
       "      <td>76101</td>\n",
       "      <td>76102</td>\n",
       "      <td>1</td>\n",
       "    </tr>\n",
       "    <tr>\n",
       "      <th>4</th>\n",
       "      <td>77501</td>\n",
       "      <td>77502</td>\n",
       "      <td>1</td>\n",
       "    </tr>\n",
       "    <tr>\n",
       "      <th>...</th>\n",
       "      <td>...</td>\n",
       "      <td>...</td>\n",
       "      <td>...</td>\n",
       "    </tr>\n",
       "    <tr>\n",
       "      <th>1995</th>\n",
       "      <td>55301</td>\n",
       "      <td>30402</td>\n",
       "      <td>-1</td>\n",
       "    </tr>\n",
       "    <tr>\n",
       "      <th>1996</th>\n",
       "      <td>31901</td>\n",
       "      <td>24901</td>\n",
       "      <td>-1</td>\n",
       "    </tr>\n",
       "    <tr>\n",
       "      <th>1997</th>\n",
       "      <td>80902</td>\n",
       "      <td>65501</td>\n",
       "      <td>-1</td>\n",
       "    </tr>\n",
       "    <tr>\n",
       "      <th>1998</th>\n",
       "      <td>11201</td>\n",
       "      <td>13402</td>\n",
       "      <td>-1</td>\n",
       "    </tr>\n",
       "    <tr>\n",
       "      <th>1999</th>\n",
       "      <td>12501</td>\n",
       "      <td>90502</td>\n",
       "      <td>-1</td>\n",
       "    </tr>\n",
       "  </tbody>\n",
       "</table>\n",
       "<p>1990 rows × 3 columns</p>\n",
       "</div>"
      ],
      "text/plain": [
       "     fragment_1 fragment_2  label\n",
       "0         98501      98502      1\n",
       "1         74901      74902      1\n",
       "2         99101      99102      1\n",
       "3         76101      76102      1\n",
       "4         77501      77502      1\n",
       "...         ...        ...    ...\n",
       "1995      55301      30402     -1\n",
       "1996      31901      24901     -1\n",
       "1997      80902      65501     -1\n",
       "1998      11201      13402     -1\n",
       "1999      12501      90502     -1\n",
       "\n",
       "[1990 rows x 3 columns]"
      ]
     },
     "execution_count": 84,
     "metadata": {},
     "output_type": "execute_result"
    }
   ],
   "source": [
    "rep(dataset)"
   ]
  },
  {
   "cell_type": "code",
   "execution_count": 84,
   "id": "3b330614",
   "metadata": {
    "pycharm": {
     "name": "#%%\n"
    }
   },
   "outputs": [],
   "source": []
  },
  {
   "cell_type": "code",
   "execution_count": 84,
   "id": "c9ad50bc",
   "metadata": {
    "pycharm": {
     "name": "#%%\n"
    }
   },
   "outputs": [],
   "source": []
  },
  {
   "cell_type": "code",
   "execution_count": 85,
   "id": "f05f6792",
   "metadata": {
    "pycharm": {
     "name": "#%%\n"
    }
   },
   "outputs": [
    {
     "name": "stdout",
     "output_type": "stream",
     "text": [
      "Amar golpo furolo...\n"
     ]
    }
   ],
   "source": [
    "print(\"Amar golpo furolo...\")"
   ]
  },
  {
   "cell_type": "markdown",
   "metadata": {
    "collapsed": false,
    "pycharm": {
     "name": "#%% md\n"
    }
   },
   "source": [
    "## ASTNN data format"
   ]
  },
  {
   "cell_type": "code",
   "execution_count": 86,
   "id": "95037c1b",
   "metadata": {
    "pycharm": {
     "name": "#%%\n"
    }
   },
   "outputs": [],
   "source": [
    "p = './dataset_splitted/java'"
   ]
  },
  {
   "cell_type": "code",
   "execution_count": 87,
   "id": "57883294",
   "metadata": {
    "pycharm": {
     "name": "#%%\n"
    }
   },
   "outputs": [
    {
     "name": "stdout",
     "output_type": "stream",
     "text": [
      "./dataset_splitted/java\n",
      "[]\n"
     ]
    },
    {
     "data": {
      "text/plain": [
       "1997"
      ]
     },
     "execution_count": 87,
     "metadata": {},
     "output_type": "execute_result"
    }
   ],
   "source": [
    "import os\n",
    "sd = []\n",
    "for rt, dirs, files in os.walk(p):\n",
    "        print(rt)\n",
    "        print(dirs)\n",
    "        files.sort()\n",
    "        for file in files:\n",
    "            id = str(file)[:-4]#ids\n",
    "            code= open(os.path.join(rt,file),encoding='utf-8').read().rstrip()\n",
    "            sd.append([id, code])\n",
    "len(sd)"
   ]
  },
  {
   "cell_type": "code",
   "execution_count": 88,
   "id": "ea0f391b",
   "metadata": {
    "pycharm": {
     "name": "#%%\n"
    }
   },
   "outputs": [
    {
     "data": {
      "text/plain": [
       "['001',\n",
       " 'public static BufferedImage scale (BufferedImage imageToScale, int dWidth, int dHeight) {\\n\\n    BufferedImage scaledImage = null;\\n\\n    if (imageToScale != null) {\\n\\n        scaledImage = new BufferedImage (dWidth, dHeight, imageToScale.getType ());\\n\\n        Graphics2D graphics2D = scaledImage.createGraphics ();\\n\\n        graphics2D.drawImage (imageToScale, 0, 0, dWidth, dHeight, null);\\n\\n        graphics2D.dispose ();\\n\\n    }\\n\\n    return scaledImage;\\n\\n}']"
      ]
     },
     "execution_count": 88,
     "metadata": {},
     "output_type": "execute_result"
    }
   ],
   "source": [
    "sd[0]"
   ]
  },
  {
   "cell_type": "code",
   "execution_count": 89,
   "id": "5c829f01",
   "metadata": {
    "pycharm": {
     "name": "#%%\n"
    }
   },
   "outputs": [],
   "source": [
    "scb_data_astnn = pd.DataFrame(sd, columns = ['id', 'code'])"
   ]
  },
  {
   "cell_type": "code",
   "execution_count": 90,
   "metadata": {
    "collapsed": false,
    "pycharm": {
     "name": "#%%\n"
    }
   },
   "outputs": [],
   "source": [
    "scb_data_astnn.to_csv('./dataset_diff/scb_data_astnn.csv',  sep='\\t', index=False, header=None)"
   ]
  },
  {
   "cell_type": "code",
   "execution_count": 91,
   "metadata": {
    "collapsed": false,
    "pycharm": {
     "name": "#%%\n"
    }
   },
   "outputs": [
    {
     "data": {
      "text/html": [
       "<div>\n",
       "<style scoped>\n",
       "    .dataframe tbody tr th:only-of-type {\n",
       "        vertical-align: middle;\n",
       "    }\n",
       "\n",
       "    .dataframe tbody tr th {\n",
       "        vertical-align: top;\n",
       "    }\n",
       "\n",
       "    .dataframe thead th {\n",
       "        text-align: right;\n",
       "    }\n",
       "</style>\n",
       "<table border=\"1\" class=\"dataframe\">\n",
       "  <thead>\n",
       "    <tr style=\"text-align: right;\">\n",
       "      <th></th>\n",
       "      <th>id</th>\n",
       "      <th>code</th>\n",
       "    </tr>\n",
       "  </thead>\n",
       "  <tbody>\n",
       "    <tr>\n",
       "      <th>0</th>\n",
       "      <td>001</td>\n",
       "      <td>public static BufferedImage scale (BufferedIma...</td>\n",
       "    </tr>\n",
       "    <tr>\n",
       "      <th>1</th>\n",
       "      <td>002</td>\n",
       "      <td>public static BufferedImage scale (BufferedIma...</td>\n",
       "    </tr>\n",
       "    <tr>\n",
       "      <th>2</th>\n",
       "      <td>10001</td>\n",
       "      <td>public void type (CharSequence chars, int ms) ...</td>\n",
       "    </tr>\n",
       "    <tr>\n",
       "      <th>3</th>\n",
       "      <td>10002</td>\n",
       "      <td>public void type (char character) {\\n\\n    swi...</td>\n",
       "    </tr>\n",
       "    <tr>\n",
       "      <th>4</th>\n",
       "      <td>1001</td>\n",
       "      <td>public void replaceText (int start, int end, S...</td>\n",
       "    </tr>\n",
       "    <tr>\n",
       "      <th>...</th>\n",
       "      <td>...</td>\n",
       "      <td>...</td>\n",
       "    </tr>\n",
       "    <tr>\n",
       "      <th>1992</th>\n",
       "      <td>99702</td>\n",
       "      <td>private XSSFFont transform (HSSFFont fontOld) ...</td>\n",
       "    </tr>\n",
       "    <tr>\n",
       "      <th>1993</th>\n",
       "      <td>99801</td>\n",
       "      <td>private void transform (XSSFWorkbook workbookO...</td>\n",
       "    </tr>\n",
       "    <tr>\n",
       "      <th>1994</th>\n",
       "      <td>99802</td>\n",
       "      <td>private void transform (HSSFWorkbook workbookO...</td>\n",
       "    </tr>\n",
       "    <tr>\n",
       "      <th>1995</th>\n",
       "      <td>99901</td>\n",
       "      <td>private void transform (XSSFWorkbook workbookO...</td>\n",
       "    </tr>\n",
       "    <tr>\n",
       "      <th>1996</th>\n",
       "      <td>99902</td>\n",
       "      <td>private void transform (HSSFWorkbook workbookO...</td>\n",
       "    </tr>\n",
       "  </tbody>\n",
       "</table>\n",
       "<p>1997 rows × 2 columns</p>\n",
       "</div>"
      ],
      "text/plain": [
       "         id                                               code\n",
       "0       001  public static BufferedImage scale (BufferedIma...\n",
       "1       002  public static BufferedImage scale (BufferedIma...\n",
       "2     10001  public void type (CharSequence chars, int ms) ...\n",
       "3     10002  public void type (char character) {\\n\\n    swi...\n",
       "4      1001  public void replaceText (int start, int end, S...\n",
       "...     ...                                                ...\n",
       "1992  99702  private XSSFFont transform (HSSFFont fontOld) ...\n",
       "1993  99801  private void transform (XSSFWorkbook workbookO...\n",
       "1994  99802  private void transform (HSSFWorkbook workbookO...\n",
       "1995  99901  private void transform (XSSFWorkbook workbookO...\n",
       "1996  99902  private void transform (HSSFWorkbook workbookO...\n",
       "\n",
       "[1997 rows x 2 columns]"
      ]
     },
     "execution_count": 91,
     "metadata": {},
     "output_type": "execute_result"
    }
   ],
   "source": [
    "scb_data_astnn"
   ]
  },
  {
   "cell_type": "code",
   "execution_count": 91,
   "metadata": {
    "collapsed": false,
    "pycharm": {
     "name": "#%%\n"
    }
   },
   "outputs": [],
   "source": []
  }
 ],
 "metadata": {
  "kernelspec": {
   "display_name": "Python 3",
   "language": "python",
   "name": "python3"
  },
  "language_info": {
   "codemirror_mode": {
    "name": "ipython",
    "version": 3
   },
   "file_extension": ".py",
   "mimetype": "text/x-python",
   "name": "python",
   "nbconvert_exporter": "python",
   "pygments_lexer": "ipython3",
   "version": "3.8.9 (default, Apr 13 2022, 08:48:07) \n[Clang 13.1.6 (clang-1316.0.21.2.5)]"
  },
  "vscode": {
   "interpreter": {
    "hash": "31f2aee4e71d21fbe5cf8b01ff0e069b9275f58929596ceb00d14d90e3e16cd6"
   }
  }
 },
 "nbformat": 4,
 "nbformat_minor": 5
}
