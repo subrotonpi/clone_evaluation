{
 "cells": [
  {
   "cell_type": "code",
   "execution_count": 1,
   "id": "1429089b",
   "metadata": {
    "pycharm": {
     "name": "#%%\n"
    }
   },
   "outputs": [],
   "source": [
    "'''\n",
    "- read java csv\n",
    "- remove source column\n",
    "- add negative sample by shuffling them\n",
    "- split into train, test and validation\n",
    "- save paths as text files\n",
    "-ready to feed the model!\n",
    "'''\n",
    "import pandas as pd\n",
    "import numpy as np\n",
    "import random as rd\n",
    "from sklearn.utils import shuffle\n",
    "import random\n",
    "random.seed(10)\n",
    "def get_index():\n",
    "    #random generation explanation \n",
    "    #https://www.sciencedirect.com/topics/computer-science/mersenne-twister\n",
    "    #first fragment position\n",
    "    rr1, rc1 = rd.randint(0,len(data)-1), rd.randint(0,1)\n",
    "    #second fragment position\n",
    "    rr2, rc2 = rd.randint(0,len(data)-1), rd.randint(0,1)\n",
    "    \n",
    "    # position of ragments is order invariant,the only constraint, it can not be on same row\n",
    "    #check if in same row\n",
    "    while(rr1==rr2):\n",
    "        rr2, rc2 = rd.randint(0,len(data)-1), rd.randint(0,1)\n",
    "    \n",
    "    #column position for first fragment\n",
    "    rc = rd.choice([rc1,rc2])\n",
    "    first_pos = (rr1, rc)\n",
    "    second_pos = (rr2, rc1+rc2-rc)\n",
    "    \n",
    "    return (first_pos, second_pos)\n",
    "\n",
    "def generate_neg_pairs_index(neg_pairs):\n",
    "    '''\n",
    "    returns random index (row, col) for sampling negative data\n",
    "    '''\n",
    "    if len(neg_pairs) == 1000:\n",
    "        return\n",
    "    \n",
    "    pair = get_index()\n",
    "    if pair in neg_pairs:\n",
    "        #print('Already taken this pair! Generating another pair...')\n",
    "        generate_neg_pairs_index(neg_pairs)\n",
    "    else:\n",
    "        neg_pairs.append(pair)\n",
    "        \n",
    "    return pair\n",
    "\n",
    "def get_complete_dataset(data):\n",
    "    \n",
    "    #generate negative pairs\n",
    "    neg_pairs = []\n",
    "    c = 0\n",
    "    while(c<1000):\n",
    "        generate_neg_pairs_index(neg_pairs)\n",
    "        c = len(neg_pairs) #neg_paairs is incremented only when a pair is added\n",
    "\n",
    "    #copy all positives to a new csv\n",
    "    dataset = data.copy()\n",
    "    \n",
    "    #add negative pairs info to dataset\n",
    "    for pair in neg_pairs:\n",
    "        #print(pair)\n",
    "        #code fragments\n",
    "        cf1 = pair[0]\n",
    "        cf2 = pair[1]\n",
    "        \n",
    "        #row to add\n",
    "        row = pd.DataFrame(\n",
    "            {\n",
    "            'fragment_1': [data.iloc[cf1[0]][cf1[1]]],\n",
    "            'fragment_2': [data.iloc[cf2[0]][cf2[1]]], \n",
    "            'label': [-1]\n",
    "            }\n",
    "        )\n",
    "        #append the row\n",
    "        dataset = pd.concat([dataset, row])\n",
    "    \n",
    "    return dataset"
   ]
  },
  {
   "cell_type": "code",
   "execution_count": 2,
   "id": "462be4b0",
   "metadata": {
    "pycharm": {
     "name": "#%%\n"
    }
   },
   "outputs": [
    {
     "name": "stdout",
     "output_type": "stream",
     "text": [
      "Number of positive pairs:  1000\n",
      "Number of positive pairs:  2000\n"
     ]
    }
   ],
   "source": [
    "#main\n",
    "#read and kep only relevant columns\n",
    "path ='./dataset_splitted/_java_dataset_all_positive.csv'\n",
    "keep =  ['first_fragment', 'second_fragment', 'label']\n",
    "data = pd.read_csv(path, usecols = keep )\n",
    "#rename columns\n",
    "data.rename(columns = {'first_fragment':'fragment_1', 'second_fragment':'fragment_2'}, inplace = True)\n",
    "print('Number of positive pairs: ', data.shape[0])\n",
    "\n",
    "#generate negative samples and get complete dataset\n",
    "dataset = get_complete_dataset(data)\n",
    "print('Number of positive pairs: ', dataset.shape[0])"
   ]
  },
  {
   "cell_type": "code",
   "execution_count": 3,
   "id": "1a97dc49",
   "metadata": {
    "pycharm": {
     "name": "#%%\n"
    }
   },
   "outputs": [],
   "source": [
    "dataset.to_csv('./dataset_diff/datasetv1.csv')"
   ]
  },
  {
   "cell_type": "code",
   "execution_count": 4,
   "id": "d2e99fb9",
   "metadata": {
    "pycharm": {
     "name": "#%%\n"
    }
   },
   "outputs": [
    {
     "data": {
      "text/plain": "                           fragment_1                         fragment_2  \\\n0   ./dataset_splitted/java/98501.txt  ./dataset_splitted/java/98502.txt   \n1   ./dataset_splitted/java/74901.txt  ./dataset_splitted/java/74902.txt   \n2   ./dataset_splitted/java/99101.txt  ./dataset_splitted/java/99102.txt   \n3   ./dataset_splitted/java/76101.txt  ./dataset_splitted/java/76102.txt   \n4   ./dataset_splitted/java/77501.txt  ./dataset_splitted/java/77502.txt   \n..                                ...                                ...   \n0   ./dataset_splitted/java/55301.txt  ./dataset_splitted/java/30402.txt   \n0   ./dataset_splitted/java/31901.txt  ./dataset_splitted/java/24901.txt   \n0   ./dataset_splitted/java/80902.txt  ./dataset_splitted/java/65501.txt   \n0   ./dataset_splitted/java/11201.txt  ./dataset_splitted/java/13402.txt   \n0   ./dataset_splitted/java/12501.txt  ./dataset_splitted/java/90502.txt   \n\n    label  \n0       1  \n1       1  \n2       1  \n3       1  \n4       1  \n..    ...  \n0      -1  \n0      -1  \n0      -1  \n0      -1  \n0      -1  \n\n[2000 rows x 3 columns]",
      "text/html": "<div>\n<style scoped>\n    .dataframe tbody tr th:only-of-type {\n        vertical-align: middle;\n    }\n\n    .dataframe tbody tr th {\n        vertical-align: top;\n    }\n\n    .dataframe thead th {\n        text-align: right;\n    }\n</style>\n<table border=\"1\" class=\"dataframe\">\n  <thead>\n    <tr style=\"text-align: right;\">\n      <th></th>\n      <th>fragment_1</th>\n      <th>fragment_2</th>\n      <th>label</th>\n    </tr>\n  </thead>\n  <tbody>\n    <tr>\n      <th>0</th>\n      <td>./dataset_splitted/java/98501.txt</td>\n      <td>./dataset_splitted/java/98502.txt</td>\n      <td>1</td>\n    </tr>\n    <tr>\n      <th>1</th>\n      <td>./dataset_splitted/java/74901.txt</td>\n      <td>./dataset_splitted/java/74902.txt</td>\n      <td>1</td>\n    </tr>\n    <tr>\n      <th>2</th>\n      <td>./dataset_splitted/java/99101.txt</td>\n      <td>./dataset_splitted/java/99102.txt</td>\n      <td>1</td>\n    </tr>\n    <tr>\n      <th>3</th>\n      <td>./dataset_splitted/java/76101.txt</td>\n      <td>./dataset_splitted/java/76102.txt</td>\n      <td>1</td>\n    </tr>\n    <tr>\n      <th>4</th>\n      <td>./dataset_splitted/java/77501.txt</td>\n      <td>./dataset_splitted/java/77502.txt</td>\n      <td>1</td>\n    </tr>\n    <tr>\n      <th>...</th>\n      <td>...</td>\n      <td>...</td>\n      <td>...</td>\n    </tr>\n    <tr>\n      <th>0</th>\n      <td>./dataset_splitted/java/55301.txt</td>\n      <td>./dataset_splitted/java/30402.txt</td>\n      <td>-1</td>\n    </tr>\n    <tr>\n      <th>0</th>\n      <td>./dataset_splitted/java/31901.txt</td>\n      <td>./dataset_splitted/java/24901.txt</td>\n      <td>-1</td>\n    </tr>\n    <tr>\n      <th>0</th>\n      <td>./dataset_splitted/java/80902.txt</td>\n      <td>./dataset_splitted/java/65501.txt</td>\n      <td>-1</td>\n    </tr>\n    <tr>\n      <th>0</th>\n      <td>./dataset_splitted/java/11201.txt</td>\n      <td>./dataset_splitted/java/13402.txt</td>\n      <td>-1</td>\n    </tr>\n    <tr>\n      <th>0</th>\n      <td>./dataset_splitted/java/12501.txt</td>\n      <td>./dataset_splitted/java/90502.txt</td>\n      <td>-1</td>\n    </tr>\n  </tbody>\n</table>\n<p>2000 rows × 3 columns</p>\n</div>"
     },
     "execution_count": 4,
     "metadata": {},
     "output_type": "execute_result"
    }
   ],
   "source": [
    "dataset"
   ]
  },
  {
   "cell_type": "code",
   "execution_count": 5,
   "id": "7d2c2a0a",
   "metadata": {
    "pycharm": {
     "name": "#%%\n"
    }
   },
   "outputs": [
    {
     "data": {
      "text/plain": "./dataset_splitted/java/5101.txt     5\n./dataset_splitted/java/34401.txt    5\n./dataset_splitted/java/50401.txt    4\n./dataset_splitted/java/23801.txt    4\n./dataset_splitted/java/84601.txt    4\n                                    ..\n./dataset_splitted/java/52301.txt    1\n./dataset_splitted/java/25101.txt    1\n./dataset_splitted/java/27901.txt    1\n./dataset_splitted/java/90601.txt    1\n./dataset_splitted/java/2502.txt     1\nName: fragment_1, Length: 1412, dtype: int64"
     },
     "execution_count": 5,
     "metadata": {},
     "output_type": "execute_result"
    }
   ],
   "source": [
    "import matplotlib.pyplot as plt\n",
    "dataset['fragment_1'].value_counts()"
   ]
  },
  {
   "cell_type": "code",
   "execution_count": 6,
   "id": "25532faa",
   "metadata": {
    "pycharm": {
     "name": "#%%\n"
    }
   },
   "outputs": [
    {
     "data": {
      "text/plain": "Index(['source', 'first_fragment', 'second_fragment', 'question_id',\n       'first_fragment_answer_id', 'second_fragment_answer_id', 'label'],\n      dtype='object')"
     },
     "execution_count": 6,
     "metadata": {},
     "output_type": "execute_result"
    }
   ],
   "source": [
    "import pandas as pd\n",
    "df = pd.read_csv('./dataset_splitted/_java_dataset_all_positive.csv')\n",
    "df.columns"
   ]
  },
  {
   "cell_type": "code",
   "execution_count": 7,
   "outputs": [],
   "source": [
    "p= df.question_id.value_counts().sort_values().tail(20)#.plot(kind='bar', ylabel = 'Frequency', xlabel='Questions ID', color=(0.2, 0.4, 0.6, 0.6))"
   ],
   "metadata": {
    "collapsed": false,
    "pycharm": {
     "name": "#%%\n"
    }
   }
  },
  {
   "cell_type": "code",
   "execution_count": 8,
   "outputs": [],
   "source": [
    "p = p.to_frame()"
   ],
   "metadata": {
    "collapsed": false,
    "pycharm": {
     "name": "#%%\n"
    }
   }
  },
  {
   "cell_type": "code",
   "execution_count": 9,
   "outputs": [
    {
     "data": {
      "text/plain": "1519736      7\n13692221     7\n25922372     7\n34342816     8\n12683533     9\n35531747     9\n2044033     10\n363681      10\n15045640    11\n10647520    11\n32447043    12\n5357455     13\n19552754    13\n6309407     14\n13119926    18\n1248510     20\n11544843    20\n7230819     35\n3911966     42\n19459197    53\nName: question_id, dtype: int64"
     },
     "execution_count": 9,
     "metadata": {},
     "output_type": "execute_result"
    }
   ],
   "source": [
    "p['question_id']"
   ],
   "metadata": {
    "collapsed": false,
    "pycharm": {
     "name": "#%%\n"
    }
   }
  },
  {
   "cell_type": "code",
   "execution_count": 9,
   "outputs": [],
   "source": [],
   "metadata": {
    "collapsed": false,
    "pycharm": {
     "name": "#%%\n"
    }
   }
  },
  {
   "cell_type": "code",
   "execution_count": 10,
   "outputs": [
    {
     "data": {
      "text/plain": "      Unnamed: 0                         fragment_1  \\\n0              0  ./dataset_splitted/java/98501.txt   \n1              1  ./dataset_splitted/java/74901.txt   \n2              2  ./dataset_splitted/java/99101.txt   \n3              3  ./dataset_splitted/java/76101.txt   \n4              4  ./dataset_splitted/java/77501.txt   \n...          ...                                ...   \n1995           0  ./dataset_splitted/java/55301.txt   \n1996           0  ./dataset_splitted/java/31901.txt   \n1997           0  ./dataset_splitted/java/80902.txt   \n1998           0  ./dataset_splitted/java/11201.txt   \n1999           0  ./dataset_splitted/java/12501.txt   \n\n                             fragment_2  label  \n0     ./dataset_splitted/java/98502.txt      1  \n1     ./dataset_splitted/java/74902.txt      1  \n2     ./dataset_splitted/java/99102.txt      1  \n3     ./dataset_splitted/java/76102.txt      1  \n4     ./dataset_splitted/java/77502.txt      1  \n...                                 ...    ...  \n1995  ./dataset_splitted/java/30402.txt     -1  \n1996  ./dataset_splitted/java/24901.txt     -1  \n1997  ./dataset_splitted/java/65501.txt     -1  \n1998  ./dataset_splitted/java/13402.txt     -1  \n1999  ./dataset_splitted/java/90502.txt     -1  \n\n[2000 rows x 4 columns]",
      "text/html": "<div>\n<style scoped>\n    .dataframe tbody tr th:only-of-type {\n        vertical-align: middle;\n    }\n\n    .dataframe tbody tr th {\n        vertical-align: top;\n    }\n\n    .dataframe thead th {\n        text-align: right;\n    }\n</style>\n<table border=\"1\" class=\"dataframe\">\n  <thead>\n    <tr style=\"text-align: right;\">\n      <th></th>\n      <th>Unnamed: 0</th>\n      <th>fragment_1</th>\n      <th>fragment_2</th>\n      <th>label</th>\n    </tr>\n  </thead>\n  <tbody>\n    <tr>\n      <th>0</th>\n      <td>0</td>\n      <td>./dataset_splitted/java/98501.txt</td>\n      <td>./dataset_splitted/java/98502.txt</td>\n      <td>1</td>\n    </tr>\n    <tr>\n      <th>1</th>\n      <td>1</td>\n      <td>./dataset_splitted/java/74901.txt</td>\n      <td>./dataset_splitted/java/74902.txt</td>\n      <td>1</td>\n    </tr>\n    <tr>\n      <th>2</th>\n      <td>2</td>\n      <td>./dataset_splitted/java/99101.txt</td>\n      <td>./dataset_splitted/java/99102.txt</td>\n      <td>1</td>\n    </tr>\n    <tr>\n      <th>3</th>\n      <td>3</td>\n      <td>./dataset_splitted/java/76101.txt</td>\n      <td>./dataset_splitted/java/76102.txt</td>\n      <td>1</td>\n    </tr>\n    <tr>\n      <th>4</th>\n      <td>4</td>\n      <td>./dataset_splitted/java/77501.txt</td>\n      <td>./dataset_splitted/java/77502.txt</td>\n      <td>1</td>\n    </tr>\n    <tr>\n      <th>...</th>\n      <td>...</td>\n      <td>...</td>\n      <td>...</td>\n      <td>...</td>\n    </tr>\n    <tr>\n      <th>1995</th>\n      <td>0</td>\n      <td>./dataset_splitted/java/55301.txt</td>\n      <td>./dataset_splitted/java/30402.txt</td>\n      <td>-1</td>\n    </tr>\n    <tr>\n      <th>1996</th>\n      <td>0</td>\n      <td>./dataset_splitted/java/31901.txt</td>\n      <td>./dataset_splitted/java/24901.txt</td>\n      <td>-1</td>\n    </tr>\n    <tr>\n      <th>1997</th>\n      <td>0</td>\n      <td>./dataset_splitted/java/80902.txt</td>\n      <td>./dataset_splitted/java/65501.txt</td>\n      <td>-1</td>\n    </tr>\n    <tr>\n      <th>1998</th>\n      <td>0</td>\n      <td>./dataset_splitted/java/11201.txt</td>\n      <td>./dataset_splitted/java/13402.txt</td>\n      <td>-1</td>\n    </tr>\n    <tr>\n      <th>1999</th>\n      <td>0</td>\n      <td>./dataset_splitted/java/12501.txt</td>\n      <td>./dataset_splitted/java/90502.txt</td>\n      <td>-1</td>\n    </tr>\n  </tbody>\n</table>\n<p>2000 rows × 4 columns</p>\n</div>"
     },
     "execution_count": 10,
     "metadata": {},
     "output_type": "execute_result"
    }
   ],
   "source": [
    "pd.read_csv('./dataset_diff/datasetv1.csv')"
   ],
   "metadata": {
    "collapsed": false,
    "pycharm": {
     "name": "#%%\n"
    }
   }
  },
  {
   "cell_type": "code",
   "execution_count": 10,
   "outputs": [],
   "source": [],
   "metadata": {
    "collapsed": false,
    "pycharm": {
     "name": "#%%\n"
    }
   }
  },
  {
   "cell_type": "code",
   "execution_count": 10,
   "outputs": [],
   "source": [],
   "metadata": {
    "collapsed": false,
    "pycharm": {
     "name": "#%%\n"
    }
   }
  },
  {
   "cell_type": "code",
   "execution_count": 10,
   "outputs": [],
   "source": [],
   "metadata": {
    "collapsed": false,
    "pycharm": {
     "name": "#%%\n"
    }
   }
  },
  {
   "cell_type": "code",
   "execution_count": 10,
   "outputs": [],
   "source": [],
   "metadata": {
    "collapsed": false,
    "pycharm": {
     "name": "#%%\n"
    }
   }
  }
 ],
 "metadata": {
  "kernelspec": {
   "display_name": "Python 3 (ipykernel)",
   "language": "python",
   "name": "python3"
  },
  "language_info": {
   "codemirror_mode": {
    "name": "ipython",
    "version": 3
   },
   "file_extension": ".py",
   "mimetype": "text/x-python",
   "name": "python",
   "nbconvert_exporter": "python",
   "pygments_lexer": "ipython3",
   "version": "3.9.7"
  }
 },
 "nbformat": 4,
 "nbformat_minor": 5
}