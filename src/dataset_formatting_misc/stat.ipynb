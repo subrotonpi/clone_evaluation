{
 "cells": [
  {
   "cell_type": "code",
   "execution_count": 1,
   "metadata": {},
   "outputs": [],
   "source": [
    "import pandas as pd\n",
    "dr =\"/home/egk204/projects/clone-type-iv/data/\""
   ]
  },
  {
   "cell_type": "code",
   "execution_count": 2,
   "metadata": {},
   "outputs": [
    {
     "name": "stdout",
     "output_type": "stream",
     "text": [
      "(901724, 3) (450862, 3) 450862\n",
      "(416328, 3) (359223, 3) 57105\n",
      "(416328, 3) (362366, 3) 53962\n"
     ]
    }
   ],
   "source": [
    "pairs = pd.read_csv(dr+\"bcb/train.csv\", names=[\"id1\", \"id2\", \"label\"])\n",
    "print(pairs.shape, pairs[pairs.label==0].shape, pairs[pairs.label==1].shape[0])\n",
    "\n",
    "pairs = pd.read_csv(dr+\"bcb/test.csv\", names=[\"id1\", \"id2\", \"label\"])\n",
    "print(pairs.shape, pairs[pairs.label==0].shape, pairs[pairs.label==1].shape[0])\n",
    "\n",
    "\n",
    "pairs = pd.read_csv(dr+\"bcb/valid.csv\", names=[\"id1\", \"id2\", \"label\"])\n",
    "print(pairs.shape, pairs[pairs.label==0].shape, pairs[pairs.label==1].shape[0])\n"
   ]
  },
  {
   "cell_type": "code",
   "execution_count": 3,
   "metadata": {},
   "outputs": [
    {
     "data": {
      "text/plain": [
       "(1734380, 1172451, 561929)"
      ]
     },
     "execution_count": 3,
     "metadata": {},
     "output_type": "execute_result"
    }
   ],
   "source": [
    "901724+416328+416328 , 450862+359223+362366 , 450862+57105+53962"
   ]
  },
  {
   "cell_type": "code",
   "execution_count": 4,
   "metadata": {},
   "outputs": [],
   "source": [
    "df = pd.read_json(dr+\"bcb/data.jsonl\", lines=True) #"
   ]
  },
  {
   "cell_type": "code",
   "execution_count": 5,
   "metadata": {},
   "outputs": [
    {
     "data": {
      "text/html": [
       "<div>\n",
       "<style scoped>\n",
       "    .dataframe tbody tr th:only-of-type {\n",
       "        vertical-align: middle;\n",
       "    }\n",
       "\n",
       "    .dataframe tbody tr th {\n",
       "        vertical-align: top;\n",
       "    }\n",
       "\n",
       "    .dataframe thead th {\n",
       "        text-align: right;\n",
       "    }\n",
       "</style>\n",
       "<table border=\"1\" class=\"dataframe\">\n",
       "  <thead>\n",
       "    <tr style=\"text-align: right;\">\n",
       "      <th></th>\n",
       "      <th>idx</th>\n",
       "      <th>func</th>\n",
       "    </tr>\n",
       "  </thead>\n",
       "  <tbody>\n",
       "    <tr>\n",
       "      <th>0</th>\n",
       "      <td>1</td>\n",
       "      <td>public static byte[] findHead(String url) ...</td>\n",
       "    </tr>\n",
       "    <tr>\n",
       "      <th>1</th>\n",
       "      <td>2</td>\n",
       "      <td>public Configuration(URL url) {\\n        I...</td>\n",
       "    </tr>\n",
       "    <tr>\n",
       "      <th>2</th>\n",
       "      <td>3</td>\n",
       "      <td>public void Load(String fname) throws Exce...</td>\n",
       "    </tr>\n",
       "    <tr>\n",
       "      <th>3</th>\n",
       "      <td>4</td>\n",
       "      <td>protected final void loadLogFile(String fi...</td>\n",
       "    </tr>\n",
       "    <tr>\n",
       "      <th>4</th>\n",
       "      <td>5</td>\n",
       "      <td>public UserFunction loadMFileViaWeb(URL co...</td>\n",
       "    </tr>\n",
       "    <tr>\n",
       "      <th>...</th>\n",
       "      <td>...</td>\n",
       "      <td>...</td>\n",
       "    </tr>\n",
       "    <tr>\n",
       "      <th>9128</th>\n",
       "      <td>9129</td>\n",
       "      <td>protected void onlyFileCopy(File in, File ...</td>\n",
       "    </tr>\n",
       "    <tr>\n",
       "      <th>9129</th>\n",
       "      <td>9130</td>\n",
       "      <td>void openTextFile(String urlString, boolea...</td>\n",
       "    </tr>\n",
       "    <tr>\n",
       "      <th>9130</th>\n",
       "      <td>9131</td>\n",
       "      <td>public static InputStream getData(DataTran...</td>\n",
       "    </tr>\n",
       "    <tr>\n",
       "      <th>9131</th>\n",
       "      <td>9132</td>\n",
       "      <td>public String hash(String plaintext, Strin...</td>\n",
       "    </tr>\n",
       "    <tr>\n",
       "      <th>9132</th>\n",
       "      <td>9133</td>\n",
       "      <td>protected InputStream openInputStream(Stri...</td>\n",
       "    </tr>\n",
       "  </tbody>\n",
       "</table>\n",
       "<p>9133 rows × 2 columns</p>\n",
       "</div>"
      ],
      "text/plain": [
       "       idx                                               func\n",
       "0        1      public static byte[] findHead(String url) ...\n",
       "1        2      public Configuration(URL url) {\\n        I...\n",
       "2        3      public void Load(String fname) throws Exce...\n",
       "3        4      protected final void loadLogFile(String fi...\n",
       "4        5      public UserFunction loadMFileViaWeb(URL co...\n",
       "...    ...                                                ...\n",
       "9128  9129      protected void onlyFileCopy(File in, File ...\n",
       "9129  9130      void openTextFile(String urlString, boolea...\n",
       "9130  9131      public static InputStream getData(DataTran...\n",
       "9131  9132      public String hash(String plaintext, Strin...\n",
       "9132  9133      protected InputStream openInputStream(Stri...\n",
       "\n",
       "[9133 rows x 2 columns]"
      ]
     },
     "execution_count": 5,
     "metadata": {},
     "output_type": "execute_result"
    }
   ],
   "source": [
    "df"
   ]
  },
  {
   "cell_type": "code",
   "execution_count": 6,
   "metadata": {},
   "outputs": [],
   "source": [
    "codes = set(df.func)"
   ]
  },
  {
   "cell_type": "code",
   "execution_count": 7,
   "metadata": {},
   "outputs": [
    {
     "data": {
      "text/plain": [
       "8070"
      ]
     },
     "execution_count": 7,
     "metadata": {},
     "output_type": "execute_result"
    }
   ],
   "source": [
    "len(codes)"
   ]
  },
  {
   "cell_type": "code",
   "execution_count": 8,
   "metadata": {},
   "outputs": [],
   "source": [
    "x=0\n",
    "for i in codes:\n",
    "    k = i.split(\"\\n\")\n",
    "    # print(len(k))\n",
    "    k = [i for i in k if i!=\"\"]\n",
    "    # print(len(k))\n",
    "    x+=len(k)\n",
    "    # break\n"
   ]
  },
  {
   "cell_type": "code",
   "execution_count": 9,
   "metadata": {},
   "outputs": [
    {
     "data": {
      "text/plain": [
       "33.21685254027261"
      ]
     },
     "execution_count": 9,
     "metadata": {},
     "output_type": "execute_result"
    }
   ],
   "source": [
    "x/len(codes)"
   ]
  },
  {
   "cell_type": "code",
   "execution_count": 10,
   "metadata": {},
   "outputs": [
    {
     "data": {
      "text/plain": [
       "16.732303732303734"
      ]
     },
     "execution_count": 10,
     "metadata": {},
     "output_type": "execute_result"
    }
   ],
   "source": [
    "df = pd.read_json(dr+\"gptcb/data_including_unparsable.jsonl\", lines=True) #\n",
    "codes = set(df.func)\n",
    "x=0\n",
    "for i in codes:\n",
    "    k = i.split(\"\\n\")\n",
    "    # print(len(k))\n",
    "    k = [i for i in k if i!=\"\"]\n",
    "    # print(len(k))\n",
    "    x+=len(k)\n",
    "    # break\n",
    "x/len(codes)"
   ]
  },
  {
   "cell_type": "code",
   "execution_count": 11,
   "metadata": {},
   "outputs": [
    {
     "data": {
      "text/plain": [
       "((11142, 3), (5431, 3), 5711)"
      ]
     },
     "execution_count": 11,
     "metadata": {},
     "output_type": "execute_result"
    }
   ],
   "source": [
    "pairs = pd.read_csv(dr+\"gptcb/java_single_pairs.csv\", names=[\"id1\", \"id2\", \"label\"])\n",
    "pairs.shape, pairs[pairs.label==0].shape, 11142-pairs[pairs.label==0].shape[0]"
   ]
  },
  {
   "cell_type": "code",
   "execution_count": 12,
   "metadata": {},
   "outputs": [
    {
     "data": {
      "text/plain": [
       "17.441368078175895"
      ]
     },
     "execution_count": 12,
     "metadata": {},
     "output_type": "execute_result"
    }
   ],
   "source": [
    "df = pd.read_json(dr+\"scb/data.jsonl\", lines=True) #\n",
    "codes = set(df.func)\n",
    "x=0\n",
    "for i in codes:\n",
    "    k = i.split(\"\\n\")\n",
    "    # print(len(k))\n",
    "    k = [i for i in k if i!=\"\"]\n",
    "    # print(len(k))\n",
    "    x+=len(k)\n",
    "    # break\n",
    "x/len(codes)"
   ]
  },
  {
   "cell_type": "code",
   "execution_count": 13,
   "metadata": {},
   "outputs": [
    {
     "name": "stdout",
     "output_type": "stream",
     "text": [
      "(1592, 3) (777, 3) 815\n",
      "(199, 3) (98, 3) 101\n",
      "(199, 3) (118, 3) 81\n"
     ]
    }
   ],
   "source": [
    "pairs = pd.read_csv(dr+\"scb/train.csv\", names=[\"id1\", \"id2\", \"label\"])\n",
    "print(pairs.shape, pairs[pairs.label==0].shape, pairs[pairs.label==1].shape[0])\n",
    "\n",
    "pairs = pd.read_csv(dr+\"scb/test.csv\", names=[\"id1\", \"id2\", \"label\"])\n",
    "print(pairs.shape, pairs[pairs.label==0].shape, pairs[pairs.label==1].shape[0])\n",
    "\n",
    "\n",
    "pairs = pd.read_csv(dr+\"scb/valid.csv\", names=[\"id1\", \"id2\", \"label\"])\n",
    "print(pairs.shape, pairs[pairs.label==0].shape, pairs[pairs.label==1].shape[0])\n"
   ]
  },
  {
   "cell_type": "code",
   "execution_count": 14,
   "metadata": {},
   "outputs": [
    {
     "data": {
      "text/plain": [
       "(1990, 993, 997)"
      ]
     },
     "execution_count": 14,
     "metadata": {},
     "output_type": "execute_result"
    }
   ],
   "source": [
    "1592+199+199, 777+98+118, 815+101+81"
   ]
  },
  {
   "cell_type": "code",
   "execution_count": null,
   "metadata": {},
   "outputs": [],
   "source": []
  }
 ],
 "metadata": {
  "kernelspec": {
   "display_name": "venv",
   "language": "python",
   "name": "python3"
  },
  "language_info": {
   "codemirror_mode": {
    "name": "ipython",
    "version": 3
   },
   "file_extension": ".py",
   "mimetype": "text/x-python",
   "name": "python",
   "nbconvert_exporter": "python",
   "pygments_lexer": "ipython3",
   "version": "3.10.12"
  }
 },
 "nbformat": 4,
 "nbformat_minor": 2
}
