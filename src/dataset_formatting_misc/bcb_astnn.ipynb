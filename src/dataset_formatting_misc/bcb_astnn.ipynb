{
 "cells": [
  {
   "attachments": {},
   "cell_type": "markdown",
   "metadata": {},
   "source": [
    "# ASTNN provided dataset, bigger"
   ]
  },
  {
   "cell_type": "code",
   "execution_count": 33,
   "metadata": {},
   "outputs": [],
   "source": [
    "import pandas as pd\n",
    "data_dir = \"../data\""
   ]
  },
  {
   "cell_type": "code",
   "execution_count": 34,
   "metadata": {},
   "outputs": [],
   "source": [
    "k = ['id1', 'id2', 'label']\n",
    "functions = pd.read_csv(data_dir+'/astnn/bcb_funcs_all.tsv', sep='\\t', names=['id', 'func'])"
   ]
  },
  {
   "cell_type": "code",
   "execution_count": 35,
   "metadata": {},
   "outputs": [
    {
     "data": {
      "text/plain": [
       "0              74\n",
       "1             661\n",
       "2            1362\n",
       "3            1363\n",
       "4            2450\n",
       "           ...   \n",
       "59613    23653940\n",
       "59614    23655348\n",
       "59615    23672349\n",
       "59616    23672350\n",
       "59617    23672354\n",
       "Name: id, Length: 59618, dtype: int64"
      ]
     },
     "execution_count": 35,
     "metadata": {},
     "output_type": "execute_result"
    }
   ],
   "source": [
    "functions.id.astype(int)"
   ]
  },
  {
   "cell_type": "code",
   "execution_count": 36,
   "metadata": {},
   "outputs": [
    {
     "name": "stdout",
     "output_type": "stream",
     "text": [
      "int64\n"
     ]
    }
   ],
   "source": [
    "print(functions['id'].dtype)"
   ]
  },
  {
   "cell_type": "code",
   "execution_count": 37,
   "metadata": {},
   "outputs": [],
   "source": [
    "pairs = pd.read_pickle(data_dir+'/astnn/bcb_pair_ids.pkl')"
   ]
  },
  {
   "cell_type": "code",
   "execution_count": 38,
   "metadata": {},
   "outputs": [
    {
     "data": {
      "text/plain": [
       "(97535, 3)"
      ]
     },
     "execution_count": 38,
     "metadata": {},
     "output_type": "execute_result"
    }
   ],
   "source": [
    "pairs.shape"
   ]
  },
  {
   "cell_type": "code",
   "execution_count": 39,
   "metadata": {},
   "outputs": [
    {
     "data": {
      "text/plain": [
       "False"
      ]
     },
     "execution_count": 39,
     "metadata": {},
     "output_type": "execute_result"
    }
   ],
   "source": [
    "set(functions.id) == set(pairs.id1).union(set(pairs.id2))"
   ]
  },
  {
   "cell_type": "code",
   "execution_count": 40,
   "metadata": {},
   "outputs": [
    {
     "data": {
      "text/plain": [
       "(25812, 59618)"
      ]
     },
     "execution_count": 40,
     "metadata": {},
     "output_type": "execute_result"
    }
   ],
   "source": [
    "len(set(pairs.id1).union(set(pairs.id2))), len(set(functions.id))"
   ]
  },
  {
   "cell_type": "code",
   "execution_count": 41,
   "metadata": {},
   "outputs": [
    {
     "name": "stderr",
     "output_type": "stream",
     "text": [
      "/tmp/ipykernel_60932/2465855447.py:1: FutureWarning: The series.append method is deprecated and will be removed from pandas in a future version. Use pandas.concat instead.\n",
      "  uids = pairs['id1'].append(pairs['id2']).unique()\n"
     ]
    }
   ],
   "source": [
    "uids = pairs['id1'].append(pairs['id2']).unique()"
   ]
  },
  {
   "cell_type": "code",
   "execution_count": 42,
   "metadata": {},
   "outputs": [
    {
     "name": "stdout",
     "output_type": "stream",
     "text": [
      "[3024986 308643 210006 ... 14219638 19757092 10560326]\n"
     ]
    }
   ],
   "source": [
    "print(uids)"
   ]
  },
  {
   "cell_type": "code",
   "execution_count": 43,
   "metadata": {},
   "outputs": [
    {
     "data": {
      "text/html": [
       "<div>\n",
       "<style scoped>\n",
       "    .dataframe tbody tr th:only-of-type {\n",
       "        vertical-align: middle;\n",
       "    }\n",
       "\n",
       "    .dataframe tbody tr th {\n",
       "        vertical-align: top;\n",
       "    }\n",
       "\n",
       "    .dataframe thead th {\n",
       "        text-align: right;\n",
       "    }\n",
       "</style>\n",
       "<table border=\"1\" class=\"dataframe\">\n",
       "  <thead>\n",
       "    <tr style=\"text-align: right;\">\n",
       "      <th></th>\n",
       "      <th>id</th>\n",
       "      <th>func</th>\n",
       "    </tr>\n",
       "    <tr>\n",
       "      <th>id</th>\n",
       "      <th></th>\n",
       "      <th></th>\n",
       "    </tr>\n",
       "  </thead>\n",
       "  <tbody>\n",
       "    <tr>\n",
       "      <th>74</th>\n",
       "      <td>74</td>\n",
       "      <td>static void copy(String src, String dest) ...</td>\n",
       "    </tr>\n",
       "    <tr>\n",
       "      <th>661</th>\n",
       "      <td>661</td>\n",
       "      <td>public void convert(File src, File dest) t...</td>\n",
       "    </tr>\n",
       "    <tr>\n",
       "      <th>1362</th>\n",
       "      <td>1362</td>\n",
       "      <td>public static int[] bubbleSort(int... a) {...</td>\n",
       "    </tr>\n",
       "    <tr>\n",
       "      <th>1363</th>\n",
       "      <td>1363</td>\n",
       "      <td>public static int[] bubbleSortOtimizado(in...</td>\n",
       "    </tr>\n",
       "    <tr>\n",
       "      <th>2450</th>\n",
       "      <td>2450</td>\n",
       "      <td>public void process(String dir) {\\n       ...</td>\n",
       "    </tr>\n",
       "    <tr>\n",
       "      <th>...</th>\n",
       "      <td>...</td>\n",
       "      <td>...</td>\n",
       "    </tr>\n",
       "    <tr>\n",
       "      <th>23653940</th>\n",
       "      <td>23653940</td>\n",
       "      <td>JarAgletClassLoader(URL codebase, Certific...</td>\n",
       "    </tr>\n",
       "    <tr>\n",
       "      <th>23655348</th>\n",
       "      <td>23655348</td>\n",
       "      <td>public boolean fileCompare(String from, St...</td>\n",
       "    </tr>\n",
       "    <tr>\n",
       "      <th>23672349</th>\n",
       "      <td>23672349</td>\n",
       "      <td>public static byte[] calculateMD4(byte[] d...</td>\n",
       "    </tr>\n",
       "    <tr>\n",
       "      <th>23672350</th>\n",
       "      <td>23672350</td>\n",
       "      <td>public static byte[] calculateMD5(byte[] d...</td>\n",
       "    </tr>\n",
       "    <tr>\n",
       "      <th>23672354</th>\n",
       "      <td>23672354</td>\n",
       "      <td>public static byte[] calculateSHA1(byte[] ...</td>\n",
       "    </tr>\n",
       "  </tbody>\n",
       "</table>\n",
       "<p>59618 rows × 2 columns</p>\n",
       "</div>"
      ],
      "text/plain": [
       "                id                                               func\n",
       "id                                                                   \n",
       "74              74      static void copy(String src, String dest) ...\n",
       "661            661      public void convert(File src, File dest) t...\n",
       "1362          1362      public static int[] bubbleSort(int... a) {...\n",
       "1363          1363      public static int[] bubbleSortOtimizado(in...\n",
       "2450          2450      public void process(String dir) {\\n       ...\n",
       "...            ...                                                ...\n",
       "23653940  23653940      JarAgletClassLoader(URL codebase, Certific...\n",
       "23655348  23655348      public boolean fileCompare(String from, St...\n",
       "23672349  23672349      public static byte[] calculateMD4(byte[] d...\n",
       "23672350  23672350      public static byte[] calculateMD5(byte[] d...\n",
       "23672354  23672354      public static byte[] calculateSHA1(byte[] ...\n",
       "\n",
       "[59618 rows x 2 columns]"
      ]
     },
     "execution_count": 43,
     "metadata": {},
     "output_type": "execute_result"
    }
   ],
   "source": [
    "fn = functions.set_index('id', drop=False)\n",
    "fn"
   ]
  },
  {
   "cell_type": "code",
   "execution_count": 44,
   "metadata": {},
   "outputs": [],
   "source": [
    "k = set(uids) - set(fn.id)"
   ]
  },
  {
   "cell_type": "code",
   "execution_count": 45,
   "metadata": {},
   "outputs": [],
   "source": [
    "uids = set(uids) - k"
   ]
  },
  {
   "cell_type": "code",
   "execution_count": 46,
   "metadata": {},
   "outputs": [],
   "source": [
    "uids = list(uids)"
   ]
  },
  {
   "cell_type": "code",
   "execution_count": 47,
   "metadata": {},
   "outputs": [
    {
     "data": {
      "text/html": [
       "<div>\n",
       "<style scoped>\n",
       "    .dataframe tbody tr th:only-of-type {\n",
       "        vertical-align: middle;\n",
       "    }\n",
       "\n",
       "    .dataframe tbody tr th {\n",
       "        vertical-align: top;\n",
       "    }\n",
       "\n",
       "    .dataframe thead th {\n",
       "        text-align: right;\n",
       "    }\n",
       "</style>\n",
       "<table border=\"1\" class=\"dataframe\">\n",
       "  <thead>\n",
       "    <tr style=\"text-align: right;\">\n",
       "      <th></th>\n",
       "      <th>id</th>\n",
       "      <th>func</th>\n",
       "    </tr>\n",
       "    <tr>\n",
       "      <th>id</th>\n",
       "      <th></th>\n",
       "      <th></th>\n",
       "    </tr>\n",
       "  </thead>\n",
       "  <tbody>\n",
       "    <tr>\n",
       "      <th>9830409</th>\n",
       "      <td>9830409</td>\n",
       "      <td>@Test\\n    public final void testCheckCook...</td>\n",
       "    </tr>\n",
       "    <tr>\n",
       "      <th>9437194</th>\n",
       "      <td>9437194</td>\n",
       "      <td>public int read(String name) {\\n        st...</td>\n",
       "    </tr>\n",
       "    <tr>\n",
       "      <th>23658510</th>\n",
       "      <td>23658510</td>\n",
       "      <td>public void _jspService(HttpServletRequest...</td>\n",
       "    </tr>\n",
       "    <tr>\n",
       "      <th>6291471</th>\n",
       "      <td>6291471</td>\n",
       "      <td>private void copyFile(File f) throws IOExc...</td>\n",
       "    </tr>\n",
       "    <tr>\n",
       "      <th>4325394</th>\n",
       "      <td>4325394</td>\n",
       "      <td>private ZoomManager getZoomManager(Graphic...</td>\n",
       "    </tr>\n",
       "    <tr>\n",
       "      <th>...</th>\n",
       "      <td>...</td>\n",
       "      <td>...</td>\n",
       "    </tr>\n",
       "    <tr>\n",
       "      <th>22609911</th>\n",
       "      <td>22609911</td>\n",
       "      <td>@Override\\n    public void onBuffer(ByteBu...</td>\n",
       "    </tr>\n",
       "    <tr>\n",
       "      <th>6225912</th>\n",
       "      <td>6225912</td>\n",
       "      <td>private void connectSlaves(List&lt;SlaveAddre...</td>\n",
       "    </tr>\n",
       "    <tr>\n",
       "      <th>983036</th>\n",
       "      <td>983036</td>\n",
       "      <td>public static String stringOfUrl(String ad...</td>\n",
       "    </tr>\n",
       "    <tr>\n",
       "      <th>983037</th>\n",
       "      <td>983037</td>\n",
       "      <td>public String streamToString(InputStream s...</td>\n",
       "    </tr>\n",
       "    <tr>\n",
       "      <th>22609919</th>\n",
       "      <td>22609919</td>\n",
       "      <td>@Override\\n    public void postMessage(Asy...</td>\n",
       "    </tr>\n",
       "  </tbody>\n",
       "</table>\n",
       "<p>25800 rows × 2 columns</p>\n",
       "</div>"
      ],
      "text/plain": [
       "                id                                               func\n",
       "id                                                                   \n",
       "9830409    9830409      @Test\\n    public final void testCheckCook...\n",
       "9437194    9437194      public int read(String name) {\\n        st...\n",
       "23658510  23658510      public void _jspService(HttpServletRequest...\n",
       "6291471    6291471      private void copyFile(File f) throws IOExc...\n",
       "4325394    4325394      private ZoomManager getZoomManager(Graphic...\n",
       "...            ...                                                ...\n",
       "22609911  22609911      @Override\\n    public void onBuffer(ByteBu...\n",
       "6225912    6225912      private void connectSlaves(List<SlaveAddre...\n",
       "983036      983036      public static String stringOfUrl(String ad...\n",
       "983037      983037      public String streamToString(InputStream s...\n",
       "22609919  22609919      @Override\\n    public void postMessage(Asy...\n",
       "\n",
       "[25800 rows x 2 columns]"
      ]
     },
     "execution_count": 47,
     "metadata": {},
     "output_type": "execute_result"
    }
   ],
   "source": [
    "fn.loc[uids]"
   ]
  },
  {
   "cell_type": "code",
   "execution_count": 48,
   "metadata": {},
   "outputs": [],
   "source": [
    "x=[]\n",
    "for i, r in pairs.iterrows():\n",
    "    if r.id1 in uids and r.id2 in uids:\n",
    "        # print(\"achhhiiiiiii\")\n",
    "        x.append(list(r))\n",
    "pairs = pd.DataFrame(x, columns=[\"id1\", \"id2\", \"label\"])"
   ]
  },
  {
   "cell_type": "code",
   "execution_count": 49,
   "metadata": {},
   "outputs": [],
   "source": [
    "import jsonlines\n",
    "df = functions\n",
    "temp = []\n",
    "for ind, row in df.iterrows():\n",
    "    x = {\n",
    "        'idx' : row.id,\n",
    "        'func' : row.func\n",
    "    }\n",
    "    temp.append(x)\n",
    "\n",
    "with jsonlines.open(data_dir+'/astnn/data.jsonl', 'w') as writer:\n",
    "    writer.write_all(temp)"
   ]
  },
  {
   "cell_type": "code",
   "execution_count": 50,
   "metadata": {},
   "outputs": [],
   "source": [
    "data = pairs\n",
    "data_num = len(data)\n",
    "ratios = [8,1,1]\n",
    "train_split = int(ratios[0]/sum(ratios)*data_num)\n",
    "val_split = train_split + int(ratios[1]/sum(ratios)*data_num)\n",
    "data = data.sample(frac=1, random_state=666)\n",
    "train = data.iloc[:train_split]\n",
    "val = data.iloc[train_split:val_split]\n",
    "test = data.iloc[val_split:]"
   ]
  },
  {
   "cell_type": "code",
   "execution_count": 51,
   "metadata": {},
   "outputs": [],
   "source": [
    "train.to_csv(data_dir+'/astnn/train.csv', index=False, header=None)\n",
    "test.to_csv(data_dir+'/astnn/test.csv', index=False, header=None)\n",
    "val.to_csv(data_dir+'/astnn/valid.csv', index=False, header=None)"
   ]
  },
  {
   "cell_type": "code",
   "execution_count": 52,
   "metadata": {},
   "outputs": [
    {
     "data": {
      "text/plain": [
       "((78012, 3), (9751, 3), (9752, 3))"
      ]
     },
     "execution_count": 52,
     "metadata": {},
     "output_type": "execute_result"
    }
   ],
   "source": [
    "train.shape, val.shape, test.shape"
   ]
  },
  {
   "cell_type": "code",
   "execution_count": 53,
   "metadata": {},
   "outputs": [
    {
     "data": {
      "text/plain": [
       "(97515, 3)"
      ]
     },
     "execution_count": 53,
     "metadata": {},
     "output_type": "execute_result"
    }
   ],
   "source": [
    "pairs.shape"
   ]
  },
  {
   "cell_type": "code",
   "execution_count": null,
   "metadata": {},
   "outputs": [],
   "source": []
  }
 ],
 "metadata": {
  "kernelspec": {
   "display_name": "venv",
   "language": "python",
   "name": "python3"
  },
  "language_info": {
   "codemirror_mode": {
    "name": "ipython",
    "version": 3
   },
   "file_extension": ".py",
   "mimetype": "text/x-python",
   "name": "python",
   "nbconvert_exporter": "python",
   "pygments_lexer": "ipython3",
   "version": "3.10.6"
  },
  "orig_nbformat": 4
 },
 "nbformat": 4,
 "nbformat_minor": 2
}
